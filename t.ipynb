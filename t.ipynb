{
 "cells": [
  {
   "cell_type": "code",
   "execution_count": 1,
   "metadata": {},
   "outputs": [
    {
     "name": "stderr",
     "output_type": "stream",
     "text": [
      "[nltk_data] Downloading package stopwords to\n",
      "[nltk_data]     C:\\Users\\gsevr\\AppData\\Roaming\\nltk_data...\n",
      "[nltk_data]   Package stopwords is already up-to-date!\n"
     ]
    }
   ],
   "source": [
    "import pandas as pd\n",
    "import numpy as np\n",
    "from nltk.corpus import stopwords\n",
    "from nltk.stem import WordNetLemmatizer\n",
    "import re\n",
    "import plotly.graph_objects as go\n",
    "import networkx as nx\n",
    "\n",
    "from tensorflow.keras.preprocessing.text import Tokenizer\n",
    "from tensorflow.keras.preprocessing.sequence import pad_sequences\n",
    "from tensorflow.keras.preprocessing import image\n",
    "import nltk\n",
    "nltk.download('stopwords')\n",
    "from keras.preprocessing.text import Tokenizer\n",
    "from gensim.models import KeyedVectors\n",
    "from keras.layers import Embedding\n",
    "from keras.models import Sequential\n",
    "import tensorflow as tf\n",
    "from mtcnn import MTCNN\n",
    "\n",
    "\n",
    "from tensorflow.keras.applications import InceptionV3\n",
    "from tensorflow.keras.applications.inception_v3 import preprocess_input\n",
    "from tensorflow.keras.models import Model, load_model\n",
    "import cv2\n",
    "import os\n",
    "\n",
    "from tensorflow.keras.callbacks import EarlyStopping\n",
    "from tensorflow.keras.losses import CategoricalCrossentropy\n",
    "from tensorflow.keras.optimizers import Adam\n",
    "\n",
    "from spektral.data.loaders import SingleLoader, Loader\n",
    "from spektral.datasets.citation import Citation\n",
    "from spektral.layers import GCNConv\n",
    "from spektral.models.gcn import GCN\n",
    "from spektral.transforms import LayerPreprocess"
   ]
  },
  {
   "cell_type": "code",
   "execution_count": 2,
   "metadata": {},
   "outputs": [
    {
     "data": {
      "text/html": [
       "<div>\n",
       "<style scoped>\n",
       "    .dataframe tbody tr th:only-of-type {\n",
       "        vertical-align: middle;\n",
       "    }\n",
       "\n",
       "    .dataframe tbody tr th {\n",
       "        vertical-align: top;\n",
       "    }\n",
       "\n",
       "    .dataframe thead th {\n",
       "        text-align: right;\n",
       "    }\n",
       "</style>\n",
       "<table border=\"1\" class=\"dataframe\">\n",
       "  <thead>\n",
       "    <tr style=\"text-align: right;\">\n",
       "      <th></th>\n",
       "      <th>Sr No.</th>\n",
       "      <th>Utterance</th>\n",
       "      <th>Speaker</th>\n",
       "      <th>Emotion</th>\n",
       "      <th>Sentiment</th>\n",
       "      <th>Dialogue_ID</th>\n",
       "      <th>Utterance_ID</th>\n",
       "      <th>Season</th>\n",
       "      <th>Episode</th>\n",
       "      <th>StartTime</th>\n",
       "      <th>EndTime</th>\n",
       "      <th>gender</th>\n",
       "    </tr>\n",
       "  </thead>\n",
       "  <tbody>\n",
       "    <tr>\n",
       "      <th>0</th>\n",
       "      <td>41</td>\n",
       "      <td>Y'know, you look nothing like I would've thoug...</td>\n",
       "      <td>Woman</td>\n",
       "      <td>surprise</td>\n",
       "      <td>positive</td>\n",
       "      <td>4</td>\n",
       "      <td>13</td>\n",
       "      <td>7</td>\n",
       "      <td>7</td>\n",
       "      <td>00:15:56,830</td>\n",
       "      <td>00:15:58,311</td>\n",
       "      <td>female</td>\n",
       "    </tr>\n",
       "    <tr>\n",
       "      <th>1</th>\n",
       "      <td>160</td>\n",
       "      <td>Toby don't.</td>\n",
       "      <td>Bob</td>\n",
       "      <td>sadness</td>\n",
       "      <td>negative</td>\n",
       "      <td>14</td>\n",
       "      <td>6</td>\n",
       "      <td>8</td>\n",
       "      <td>5</td>\n",
       "      <td>0:16:35,577</td>\n",
       "      <td>0:16:36,849</td>\n",
       "      <td>female</td>\n",
       "    </tr>\n",
       "    <tr>\n",
       "      <th>2</th>\n",
       "      <td>728</td>\n",
       "      <td>Tag?</td>\n",
       "      <td>Ross</td>\n",
       "      <td>neutral</td>\n",
       "      <td>neutral</td>\n",
       "      <td>69</td>\n",
       "      <td>3</td>\n",
       "      <td>7</td>\n",
       "      <td>8</td>\n",
       "      <td>0:19:46,728</td>\n",
       "      <td>0:19:49,508</td>\n",
       "      <td>male</td>\n",
       "    </tr>\n",
       "    <tr>\n",
       "      <th>3</th>\n",
       "      <td>1162</td>\n",
       "      <td>Well, it's pretty much the gist. Well, except ...</td>\n",
       "      <td>Ursula</td>\n",
       "      <td>neutral</td>\n",
       "      <td>neutral</td>\n",
       "      <td>112</td>\n",
       "      <td>2</td>\n",
       "      <td>4</td>\n",
       "      <td>1</td>\n",
       "      <td>00:13:45,991</td>\n",
       "      <td>00:13:53,331</td>\n",
       "      <td>female</td>\n",
       "    </tr>\n",
       "    <tr>\n",
       "      <th>4</th>\n",
       "      <td>283</td>\n",
       "      <td>I'm sorry.</td>\n",
       "      <td>Phoebe</td>\n",
       "      <td>sadness</td>\n",
       "      <td>negative</td>\n",
       "      <td>23</td>\n",
       "      <td>10</td>\n",
       "      <td>3</td>\n",
       "      <td>6</td>\n",
       "      <td>00:18:33,529</td>\n",
       "      <td>00:18:34,570</td>\n",
       "      <td>female</td>\n",
       "    </tr>\n",
       "    <tr>\n",
       "      <th>5</th>\n",
       "      <td>435</td>\n",
       "      <td>No-o-o!!</td>\n",
       "      <td>Joey</td>\n",
       "      <td>fear</td>\n",
       "      <td>negative</td>\n",
       "      <td>37</td>\n",
       "      <td>5</td>\n",
       "      <td>3</td>\n",
       "      <td>24</td>\n",
       "      <td>0:22:12,838</td>\n",
       "      <td>0:22:13,295</td>\n",
       "      <td>male</td>\n",
       "    </tr>\n",
       "    <tr>\n",
       "      <th>6</th>\n",
       "      <td>815</td>\n",
       "      <td>So it's kinda like, you're, you know.</td>\n",
       "      <td>Chandler</td>\n",
       "      <td>neutral</td>\n",
       "      <td>neutral</td>\n",
       "      <td>76</td>\n",
       "      <td>12</td>\n",
       "      <td>3</td>\n",
       "      <td>1</td>\n",
       "      <td>00:17:00,769</td>\n",
       "      <td>00:17:08,860</td>\n",
       "      <td>male</td>\n",
       "    </tr>\n",
       "    <tr>\n",
       "      <th>7</th>\n",
       "      <td>779</td>\n",
       "      <td>And shame on you! You should know better, Joey...</td>\n",
       "      <td>Ross</td>\n",
       "      <td>anger</td>\n",
       "      <td>negative</td>\n",
       "      <td>73</td>\n",
       "      <td>0</td>\n",
       "      <td>5</td>\n",
       "      <td>10</td>\n",
       "      <td>00:10:28,461</td>\n",
       "      <td>00:10:34,257</td>\n",
       "      <td>male</td>\n",
       "    </tr>\n",
       "    <tr>\n",
       "      <th>8</th>\n",
       "      <td>360</td>\n",
       "      <td>Yeah, you're great! Okay, let's take it from</td>\n",
       "      <td>Joey</td>\n",
       "      <td>joy</td>\n",
       "      <td>positive</td>\n",
       "      <td>30</td>\n",
       "      <td>8</td>\n",
       "      <td>6</td>\n",
       "      <td>20</td>\n",
       "      <td>00:00:29,446</td>\n",
       "      <td>00:00:35,159</td>\n",
       "      <td>male</td>\n",
       "    </tr>\n",
       "    <tr>\n",
       "      <th>9</th>\n",
       "      <td>1067</td>\n",
       "      <td>What?</td>\n",
       "      <td>Rachel</td>\n",
       "      <td>neutral</td>\n",
       "      <td>neutral</td>\n",
       "      <td>102</td>\n",
       "      <td>1</td>\n",
       "      <td>1</td>\n",
       "      <td>2</td>\n",
       "      <td>0:13:42,477</td>\n",
       "      <td>0:13:43,955</td>\n",
       "      <td>female</td>\n",
       "    </tr>\n",
       "    <tr>\n",
       "      <th>10</th>\n",
       "      <td>104</td>\n",
       "      <td>Come on man!  Listen so uh, are you gonna sque...</td>\n",
       "      <td>Joey</td>\n",
       "      <td>joy</td>\n",
       "      <td>positive</td>\n",
       "      <td>10</td>\n",
       "      <td>3</td>\n",
       "      <td>5</td>\n",
       "      <td>20</td>\n",
       "      <td>00:07:01,254</td>\n",
       "      <td>00:07:07,342</td>\n",
       "      <td>male</td>\n",
       "    </tr>\n",
       "    <tr>\n",
       "      <th>11</th>\n",
       "      <td>746</td>\n",
       "      <td>Get him! GET HIM! Get him! Get- YESSS! Not lau...</td>\n",
       "      <td>Ross</td>\n",
       "      <td>anger</td>\n",
       "      <td>negative</td>\n",
       "      <td>70</td>\n",
       "      <td>0</td>\n",
       "      <td>1</td>\n",
       "      <td>4</td>\n",
       "      <td>00:12:16,944</td>\n",
       "      <td>00:12:23,575</td>\n",
       "      <td>male</td>\n",
       "    </tr>\n",
       "    <tr>\n",
       "      <th>12</th>\n",
       "      <td>371</td>\n",
       "      <td>I can't believe that Ross is gone. It is just ...</td>\n",
       "      <td>Kori</td>\n",
       "      <td>sadness</td>\n",
       "      <td>negative</td>\n",
       "      <td>31</td>\n",
       "      <td>0</td>\n",
       "      <td>9</td>\n",
       "      <td>17</td>\n",
       "      <td>00:22:08,315</td>\n",
       "      <td>00:22:11,902</td>\n",
       "      <td>female</td>\n",
       "    </tr>\n",
       "    <tr>\n",
       "      <th>13</th>\n",
       "      <td>1152</td>\n",
       "      <td>I bet it has a great story behind it too.</td>\n",
       "      <td>Phoebe</td>\n",
       "      <td>joy</td>\n",
       "      <td>positive</td>\n",
       "      <td>110</td>\n",
       "      <td>6</td>\n",
       "      <td>6</td>\n",
       "      <td>11</td>\n",
       "      <td>00:07:09,387</td>\n",
       "      <td>00:07:11,596</td>\n",
       "      <td>female</td>\n",
       "    </tr>\n",
       "    <tr>\n",
       "      <th>14</th>\n",
       "      <td>929</td>\n",
       "      <td>Mom already called this morning to remind me n...</td>\n",
       "      <td>Monica</td>\n",
       "      <td>neutral</td>\n",
       "      <td>neutral</td>\n",
       "      <td>86</td>\n",
       "      <td>1</td>\n",
       "      <td>1</td>\n",
       "      <td>8</td>\n",
       "      <td>00:13:17,797</td>\n",
       "      <td>00:13:23,134</td>\n",
       "      <td>female</td>\n",
       "    </tr>\n",
       "    <tr>\n",
       "      <th>15</th>\n",
       "      <td>280</td>\n",
       "      <td>I mean shoulda seen it, I mean Carol and I'd b...</td>\n",
       "      <td>Ross</td>\n",
       "      <td>sadness</td>\n",
       "      <td>negative</td>\n",
       "      <td>23</td>\n",
       "      <td>7</td>\n",
       "      <td>3</td>\n",
       "      <td>6</td>\n",
       "      <td>00:18:03,499</td>\n",
       "      <td>00:18:13,674</td>\n",
       "      <td>male</td>\n",
       "    </tr>\n",
       "    <tr>\n",
       "      <th>16</th>\n",
       "      <td>1165</td>\n",
       "      <td>Rachel, it's going to happen. Chandler is gonn...</td>\n",
       "      <td>Monica</td>\n",
       "      <td>neutral</td>\n",
       "      <td>neutral</td>\n",
       "      <td>113</td>\n",
       "      <td>0</td>\n",
       "      <td>6</td>\n",
       "      <td>2</td>\n",
       "      <td>00:18:52,923</td>\n",
       "      <td>00:18:59,303</td>\n",
       "      <td>female</td>\n",
       "    </tr>\n",
       "    <tr>\n",
       "      <th>17</th>\n",
       "      <td>332</td>\n",
       "      <td>Man, it must be so cool remembering stuff like...</td>\n",
       "      <td>Joey</td>\n",
       "      <td>joy</td>\n",
       "      <td>positive</td>\n",
       "      <td>28</td>\n",
       "      <td>2</td>\n",
       "      <td>5</td>\n",
       "      <td>8</td>\n",
       "      <td>00:04:08,831</td>\n",
       "      <td>00:04:14,044</td>\n",
       "      <td>male</td>\n",
       "    </tr>\n",
       "    <tr>\n",
       "      <th>18</th>\n",
       "      <td>565</td>\n",
       "      <td>Alright. Phoebe?</td>\n",
       "      <td>Monica</td>\n",
       "      <td>neutral</td>\n",
       "      <td>neutral</td>\n",
       "      <td>54</td>\n",
       "      <td>0</td>\n",
       "      <td>1</td>\n",
       "      <td>4</td>\n",
       "      <td>0:00:03,420</td>\n",
       "      <td>0:00:04,382</td>\n",
       "      <td>female</td>\n",
       "    </tr>\n",
       "    <tr>\n",
       "      <th>19</th>\n",
       "      <td>1177</td>\n",
       "      <td>I mean it's the end of an era!</td>\n",
       "      <td>Rachel</td>\n",
       "      <td>sadness</td>\n",
       "      <td>negative</td>\n",
       "      <td>113</td>\n",
       "      <td>12</td>\n",
       "      <td>6</td>\n",
       "      <td>2</td>\n",
       "      <td>00:19:39,094</td>\n",
       "      <td>00:19:40,928</td>\n",
       "      <td>female</td>\n",
       "    </tr>\n",
       "    <tr>\n",
       "      <th>20</th>\n",
       "      <td>551</td>\n",
       "      <td>Hey Monica, there's a customer who wants to co...</td>\n",
       "      <td>Waitress</td>\n",
       "      <td>neutral</td>\n",
       "      <td>neutral</td>\n",
       "      <td>52</td>\n",
       "      <td>0</td>\n",
       "      <td>6</td>\n",
       "      <td>24</td>\n",
       "      <td>00:20:36,109</td>\n",
       "      <td>00:20:39,528</td>\n",
       "      <td>female</td>\n",
       "    </tr>\n",
       "    <tr>\n",
       "      <th>21</th>\n",
       "      <td>262</td>\n",
       "      <td>That she left you?</td>\n",
       "      <td>Chandler</td>\n",
       "      <td>surprise</td>\n",
       "      <td>negative</td>\n",
       "      <td>22</td>\n",
       "      <td>3</td>\n",
       "      <td>1</td>\n",
       "      <td>4</td>\n",
       "      <td>0:17:43,563</td>\n",
       "      <td>0:17:44,365</td>\n",
       "      <td>male</td>\n",
       "    </tr>\n",
       "    <tr>\n",
       "      <th>22</th>\n",
       "      <td>504</td>\n",
       "      <td>Hey, what are you doing here?</td>\n",
       "      <td>Carol</td>\n",
       "      <td>neutral</td>\n",
       "      <td>neutral</td>\n",
       "      <td>47</td>\n",
       "      <td>0</td>\n",
       "      <td>3</td>\n",
       "      <td>17</td>\n",
       "      <td>00:12:05,599</td>\n",
       "      <td>00:12:07,642</td>\n",
       "      <td>female</td>\n",
       "    </tr>\n",
       "    <tr>\n",
       "      <th>23</th>\n",
       "      <td>88</td>\n",
       "      <td>Plus it sounds really great.</td>\n",
       "      <td>Joey</td>\n",
       "      <td>neutral</td>\n",
       "      <td>neutral</td>\n",
       "      <td>8</td>\n",
       "      <td>10</td>\n",
       "      <td>7</td>\n",
       "      <td>19</td>\n",
       "      <td>0:03:46,777</td>\n",
       "      <td>0:03:48,325</td>\n",
       "      <td>male</td>\n",
       "    </tr>\n",
       "    <tr>\n",
       "      <th>24</th>\n",
       "      <td>649</td>\n",
       "      <td>Oh, me too.</td>\n",
       "      <td>Carol</td>\n",
       "      <td>neutral</td>\n",
       "      <td>neutral</td>\n",
       "      <td>62</td>\n",
       "      <td>5</td>\n",
       "      <td>6</td>\n",
       "      <td>16</td>\n",
       "      <td>00:01:31,132</td>\n",
       "      <td>00:01:33,258</td>\n",
       "      <td>female</td>\n",
       "    </tr>\n",
       "    <tr>\n",
       "      <th>25</th>\n",
       "      <td>1001</td>\n",
       "      <td>That would be no.</td>\n",
       "      <td>Ross</td>\n",
       "      <td>disgust</td>\n",
       "      <td>negative</td>\n",
       "      <td>94</td>\n",
       "      <td>2</td>\n",
       "      <td>2</td>\n",
       "      <td>2</td>\n",
       "      <td>00:13:21,717</td>\n",
       "      <td>00:13:23,551</td>\n",
       "      <td>male</td>\n",
       "    </tr>\n",
       "    <tr>\n",
       "      <th>26</th>\n",
       "      <td>774</td>\n",
       "      <td>Here!</td>\n",
       "      <td>Joey</td>\n",
       "      <td>anger</td>\n",
       "      <td>negative</td>\n",
       "      <td>72</td>\n",
       "      <td>14</td>\n",
       "      <td>5</td>\n",
       "      <td>11</td>\n",
       "      <td>0:11:50,751</td>\n",
       "      <td>0:11:52,943</td>\n",
       "      <td>male</td>\n",
       "    </tr>\n",
       "    <tr>\n",
       "      <th>27</th>\n",
       "      <td>885</td>\n",
       "      <td>Excuse me.</td>\n",
       "      <td>Joey</td>\n",
       "      <td>neutral</td>\n",
       "      <td>neutral</td>\n",
       "      <td>82</td>\n",
       "      <td>11</td>\n",
       "      <td>6</td>\n",
       "      <td>21</td>\n",
       "      <td>00:10:17,825</td>\n",
       "      <td>00:10:20,118</td>\n",
       "      <td>male</td>\n",
       "    </tr>\n",
       "    <tr>\n",
       "      <th>28</th>\n",
       "      <td>892</td>\n",
       "      <td>I'm the lead in Mac and C.H.E.E.S.E.!!</td>\n",
       "      <td>Joey</td>\n",
       "      <td>anger</td>\n",
       "      <td>negative</td>\n",
       "      <td>82</td>\n",
       "      <td>18</td>\n",
       "      <td>6</td>\n",
       "      <td>21</td>\n",
       "      <td>00:10:39,597</td>\n",
       "      <td>00:10:41,348</td>\n",
       "      <td>male</td>\n",
       "    </tr>\n",
       "    <tr>\n",
       "      <th>29</th>\n",
       "      <td>313</td>\n",
       "      <td>I never meant for you to find out!</td>\n",
       "      <td>Monica</td>\n",
       "      <td>sadness</td>\n",
       "      <td>negative</td>\n",
       "      <td>26</td>\n",
       "      <td>11</td>\n",
       "      <td>2</td>\n",
       "      <td>2</td>\n",
       "      <td>0:11:30,865</td>\n",
       "      <td>0:11:32,163</td>\n",
       "      <td>female</td>\n",
       "    </tr>\n",
       "    <tr>\n",
       "      <th>30</th>\n",
       "      <td>926</td>\n",
       "      <td>No. No, she told me his name was Ken Adams.</td>\n",
       "      <td>Rachel</td>\n",
       "      <td>neutral</td>\n",
       "      <td>neutral</td>\n",
       "      <td>85</td>\n",
       "      <td>15</td>\n",
       "      <td>8</td>\n",
       "      <td>4</td>\n",
       "      <td>00:19:12,484</td>\n",
       "      <td>00:19:15,153</td>\n",
       "      <td>female</td>\n",
       "    </tr>\n",
       "    <tr>\n",
       "      <th>31</th>\n",
       "      <td>588</td>\n",
       "      <td>Listen, I ah, I gotta say good bye, and-and I ...</td>\n",
       "      <td>Joey</td>\n",
       "      <td>sadness</td>\n",
       "      <td>negative</td>\n",
       "      <td>56</td>\n",
       "      <td>9</td>\n",
       "      <td>3</td>\n",
       "      <td>22</td>\n",
       "      <td>00:20:21,970</td>\n",
       "      <td>00:20:28,643</td>\n",
       "      <td>male</td>\n",
       "    </tr>\n",
       "    <tr>\n",
       "      <th>32</th>\n",
       "      <td>505</td>\n",
       "      <td>Well, oh just ah, I was just wondering, when y...</td>\n",
       "      <td>Ross</td>\n",
       "      <td>neutral</td>\n",
       "      <td>neutral</td>\n",
       "      <td>47</td>\n",
       "      <td>1</td>\n",
       "      <td>3</td>\n",
       "      <td>17</td>\n",
       "      <td>00:12:07,893</td>\n",
       "      <td>00:12:14,524</td>\n",
       "      <td>male</td>\n",
       "    </tr>\n",
       "  </tbody>\n",
       "</table>\n",
       "</div>"
      ],
      "text/plain": [
       "    Sr No.                                          Utterance   Speaker   \n",
       "0       41  Y'know, you look nothing like I would've thoug...     Woman  \\\n",
       "1      160                                        Toby don't.       Bob   \n",
       "2      728                                               Tag?      Ross   \n",
       "3     1162  Well, it's pretty much the gist. Well, except ...    Ursula   \n",
       "4      283                                         I'm sorry.    Phoebe   \n",
       "5      435                                           No-o-o!!      Joey   \n",
       "6      815              So it's kinda like, you're, you know.  Chandler   \n",
       "7      779  And shame on you! You should know better, Joey...      Ross   \n",
       "8      360       Yeah, you're great! Okay, let's take it from      Joey   \n",
       "9     1067                                              What?    Rachel   \n",
       "10     104  Come on man!  Listen so uh, are you gonna sque...      Joey   \n",
       "11     746  Get him! GET HIM! Get him! Get- YESSS! Not lau...      Ross   \n",
       "12     371  I can't believe that Ross is gone. It is just ...      Kori   \n",
       "13    1152          I bet it has a great story behind it too.    Phoebe   \n",
       "14     929  Mom already called this morning to remind me n...    Monica   \n",
       "15     280  I mean shoulda seen it, I mean Carol and I'd b...      Ross   \n",
       "16    1165  Rachel, it's going to happen. Chandler is gonn...    Monica   \n",
       "17     332  Man, it must be so cool remembering stuff like...      Joey   \n",
       "18     565                                   Alright. Phoebe?    Monica   \n",
       "19    1177                     I mean it's the end of an era!    Rachel   \n",
       "20     551  Hey Monica, there's a customer who wants to co...  Waitress   \n",
       "21     262                                 That she left you?  Chandler   \n",
       "22     504                      Hey, what are you doing here?     Carol   \n",
       "23      88                       Plus it sounds really great.      Joey   \n",
       "24     649                                        Oh, me too.     Carol   \n",
       "25    1001                                  That would be no.      Ross   \n",
       "26     774                                              Here!      Joey   \n",
       "27     885                                         Excuse me.      Joey   \n",
       "28     892             I'm the lead in Mac and C.H.E.E.S.E.!!      Joey   \n",
       "29     313                 I never meant for you to find out!    Monica   \n",
       "30     926        No. No, she told me his name was Ken Adams.    Rachel   \n",
       "31     588  Listen, I ah, I gotta say good bye, and-and I ...      Joey   \n",
       "32     505  Well, oh just ah, I was just wondering, when y...      Ross   \n",
       "\n",
       "     Emotion Sentiment  Dialogue_ID  Utterance_ID  Season  Episode   \n",
       "0   surprise  positive            4            13       7        7  \\\n",
       "1    sadness  negative           14             6       8        5   \n",
       "2    neutral   neutral           69             3       7        8   \n",
       "3    neutral   neutral          112             2       4        1   \n",
       "4    sadness  negative           23            10       3        6   \n",
       "5       fear  negative           37             5       3       24   \n",
       "6    neutral   neutral           76            12       3        1   \n",
       "7      anger  negative           73             0       5       10   \n",
       "8        joy  positive           30             8       6       20   \n",
       "9    neutral   neutral          102             1       1        2   \n",
       "10       joy  positive           10             3       5       20   \n",
       "11     anger  negative           70             0       1        4   \n",
       "12   sadness  negative           31             0       9       17   \n",
       "13       joy  positive          110             6       6       11   \n",
       "14   neutral   neutral           86             1       1        8   \n",
       "15   sadness  negative           23             7       3        6   \n",
       "16   neutral   neutral          113             0       6        2   \n",
       "17       joy  positive           28             2       5        8   \n",
       "18   neutral   neutral           54             0       1        4   \n",
       "19   sadness  negative          113            12       6        2   \n",
       "20   neutral   neutral           52             0       6       24   \n",
       "21  surprise  negative           22             3       1        4   \n",
       "22   neutral   neutral           47             0       3       17   \n",
       "23   neutral   neutral            8            10       7       19   \n",
       "24   neutral   neutral           62             5       6       16   \n",
       "25   disgust  negative           94             2       2        2   \n",
       "26     anger  negative           72            14       5       11   \n",
       "27   neutral   neutral           82            11       6       21   \n",
       "28     anger  negative           82            18       6       21   \n",
       "29   sadness  negative           26            11       2        2   \n",
       "30   neutral   neutral           85            15       8        4   \n",
       "31   sadness  negative           56             9       3       22   \n",
       "32   neutral   neutral           47             1       3       17   \n",
       "\n",
       "       StartTime       EndTime  gender  \n",
       "0   00:15:56,830  00:15:58,311  female  \n",
       "1    0:16:35,577   0:16:36,849  female  \n",
       "2    0:19:46,728   0:19:49,508    male  \n",
       "3   00:13:45,991  00:13:53,331  female  \n",
       "4   00:18:33,529  00:18:34,570  female  \n",
       "5    0:22:12,838   0:22:13,295    male  \n",
       "6   00:17:00,769  00:17:08,860    male  \n",
       "7   00:10:28,461  00:10:34,257    male  \n",
       "8   00:00:29,446  00:00:35,159    male  \n",
       "9    0:13:42,477   0:13:43,955  female  \n",
       "10  00:07:01,254  00:07:07,342    male  \n",
       "11  00:12:16,944  00:12:23,575    male  \n",
       "12  00:22:08,315  00:22:11,902  female  \n",
       "13  00:07:09,387  00:07:11,596  female  \n",
       "14  00:13:17,797  00:13:23,134  female  \n",
       "15  00:18:03,499  00:18:13,674    male  \n",
       "16  00:18:52,923  00:18:59,303  female  \n",
       "17  00:04:08,831  00:04:14,044    male  \n",
       "18   0:00:03,420   0:00:04,382  female  \n",
       "19  00:19:39,094  00:19:40,928  female  \n",
       "20  00:20:36,109  00:20:39,528  female  \n",
       "21   0:17:43,563   0:17:44,365    male  \n",
       "22  00:12:05,599  00:12:07,642  female  \n",
       "23   0:03:46,777   0:03:48,325    male  \n",
       "24  00:01:31,132  00:01:33,258  female  \n",
       "25  00:13:21,717  00:13:23,551    male  \n",
       "26   0:11:50,751   0:11:52,943    male  \n",
       "27  00:10:17,825  00:10:20,118    male  \n",
       "28  00:10:39,597  00:10:41,348    male  \n",
       "29   0:11:30,865   0:11:32,163  female  \n",
       "30  00:19:12,484  00:19:15,153  female  \n",
       "31  00:20:21,970  00:20:28,643    male  \n",
       "32  00:12:07,893  00:12:14,524    male  "
      ]
     },
     "execution_count": 2,
     "metadata": {},
     "output_type": "execute_result"
    }
   ],
   "source": [
    "df = pd.read_csv('dev_sent_emo.csv',encoding='utf-8')\n",
    "df['Utterance'] = df.Utterance.str.replace('',\"'\")\n",
    "df['gender'] = df.Speaker.apply(lambda x: 'male' if x == 'Ross' or x == 'Joey' or x == 'Chandler' else 'female')\n",
    "df = df.sample(frac=0.03,ignore_index=True)\n",
    "df"
   ]
  },
  {
   "cell_type": "code",
   "execution_count": 3,
   "metadata": {},
   "outputs": [],
   "source": [
    "def preprocess(text):\n",
    "    t = text.lower()\n",
    "    t = re.sub('\\d+',r'',t)\n",
    "    t = re.sub(r'\\W+',r' ',t)\n",
    "    return t\n",
    "\n",
    "lemmatizer = WordNetLemmatizer()\n",
    "\n",
    "\n",
    "\n",
    "df['prepro'] = [' '.join([lemmatizer.lemmatize(preprocess(txt))])\n",
    "                 .strip() for txt in df['Utterance']]\n",
    "\n",
    "\n",
    "texts = df.prepro.values\n",
    "tokenizer = Tokenizer(oov_token='<OOV>')\n",
    "tokenizer.fit_on_texts(texts)\n",
    "sequences = tokenizer.texts_to_sequences(texts)\n",
    "padded_sequences = pad_sequences(sequences, maxlen=16, padding='post')"
   ]
  },
  {
   "cell_type": "code",
   "execution_count": 4,
   "metadata": {},
   "outputs": [],
   "source": [
    "glove_path = 'glove.6B.50d.txt'\n",
    "word_vectors = KeyedVectors.load_word2vec_format(glove_path, binary=False, encoding='utf8',no_header=True)\n",
    "\n"
   ]
  },
  {
   "cell_type": "code",
   "execution_count": 5,
   "metadata": {},
   "outputs": [],
   "source": [
    "embedding_dim = 50  \n",
    "embedding_matrix = np.zeros((len(tokenizer.word_index) + 1, embedding_dim))\n",
    "\n",
    "for word, i in tokenizer.word_index.items():\n",
    "    if word in word_vectors:\n",
    "        embedding_matrix[i] = word_vectors[word]\n",
    "\n",
    "embedding_layer = Embedding(\n",
    "    input_dim=len(tokenizer.word_index) + 1,\n",
    "    output_dim=embedding_dim,\n",
    "    weights=[embedding_matrix],\n",
    "    input_length=16,\n",
    "    trainable=False\n",
    ")\n",
    "\n",
    "\n",
    "model = Sequential()\n",
    "model.add(embedding_layer)\n",
    "\n",
    "model.compile(optimizer=tf.keras.optimizers.Adam(learning_rate=0.0001), loss='binary_crossentropy', metrics='accuracy')\n"
   ]
  },
  {
   "cell_type": "code",
   "execution_count": 6,
   "metadata": {},
   "outputs": [
    {
     "name": "stdout",
     "output_type": "stream",
     "text": [
      "2/2 [==============================] - 0s 2ms/step\n"
     ]
    }
   ],
   "source": [
    "embedding_vectors = model.predict(padded_sequences)\n",
    "df['text'] = list(embedding_vectors)"
   ]
  },
  {
   "cell_type": "code",
   "execution_count": 7,
   "metadata": {},
   "outputs": [
    {
     "name": "stdout",
     "output_type": "stream",
     "text": [
      "1/1 [==============================] - 0s 118ms/step\n",
      "1/1 [==============================] - 0s 86ms/step\n",
      "1/1 [==============================] - 0s 26ms/step\n",
      "1/1 [==============================] - 0s 21ms/step\n",
      "1/1 [==============================] - 0s 18ms/step\n",
      "1/1 [==============================] - 0s 18ms/step\n",
      "1/1 [==============================] - 0s 17ms/step\n",
      "1/1 [==============================] - 0s 17ms/step\n",
      "1/1 [==============================] - 0s 15ms/step\n",
      "1/1 [==============================] - 0s 17ms/step\n",
      "1/1 [==============================] - 0s 18ms/step\n",
      "11/11 [==============================] - 0s 4ms/step\n",
      "1/1 [==============================] - 0s 99ms/step\n",
      "1/1 [==============================] - 0s 51ms/step\n",
      "1/1 [==============================] - 0s 33ms/step\n",
      "1/1 [==============================] - 0s 26ms/step\n",
      "1/1 [==============================] - 0s 20ms/step\n",
      "1/1 [==============================] - 0s 18ms/step\n",
      "1/1 [==============================] - 0s 17ms/step\n",
      "1/1 [==============================] - 0s 16ms/step\n",
      "1/1 [==============================] - 0s 15ms/step\n",
      "1/1 [==============================] - 0s 16ms/step\n",
      "1/1 [==============================] - 0s 15ms/step\n",
      "1/1 [==============================] - 0s 14ms/step\n",
      "11/11 [==============================] - 0s 4ms/step\n",
      "1/1 [==============================] - 0s 17ms/step\n",
      "1/1 [==============================] - 1s 799ms/step\n",
      "1/1 [==============================] - 0s 51ms/step\n",
      "1/1 [==============================] - 0s 35ms/step\n",
      "1/1 [==============================] - 0s 26ms/step\n",
      "1/1 [==============================] - 0s 23ms/step\n",
      "1/1 [==============================] - 0s 18ms/step\n",
      "1/1 [==============================] - 0s 21ms/step\n",
      "1/1 [==============================] - 0s 19ms/step\n",
      "1/1 [==============================] - 0s 17ms/step\n",
      "1/1 [==============================] - 0s 16ms/step\n",
      "1/1 [==============================] - 0s 15ms/step\n",
      "1/1 [==============================] - 0s 15ms/step\n",
      "11/11 [==============================] - 0s 4ms/step\n",
      "1/1 [==============================] - 0s 17ms/step\n",
      "1/1 [==============================] - 0s 54ms/step\n",
      "1/1 [==============================] - 0s 34ms/step\n",
      "1/1 [==============================] - 0s 24ms/step\n",
      "1/1 [==============================] - 0s 19ms/step\n",
      "1/1 [==============================] - 0s 17ms/step\n",
      "1/1 [==============================] - 0s 17ms/step\n",
      "1/1 [==============================] - 0s 16ms/step\n",
      "1/1 [==============================] - 0s 16ms/step\n",
      "1/1 [==============================] - 0s 16ms/step\n",
      "1/1 [==============================] - 0s 14ms/step\n",
      "1/1 [==============================] - 0s 14ms/step\n",
      "2/2 [==============================] - 0s 4ms/step\n",
      "1/1 [==============================] - 0s 17ms/step\n",
      "1/1 [==============================] - 0s 51ms/step\n",
      "1/1 [==============================] - 0s 35ms/step\n",
      "1/1 [==============================] - 0s 25ms/step\n",
      "1/1 [==============================] - 0s 19ms/step\n",
      "1/1 [==============================] - 0s 18ms/step\n",
      "1/1 [==============================] - 0s 17ms/step\n",
      "1/1 [==============================] - 0s 16ms/step\n",
      "1/1 [==============================] - 0s 16ms/step\n",
      "1/1 [==============================] - 0s 15ms/step\n",
      "1/1 [==============================] - 0s 15ms/step\n",
      "1/1 [==============================] - 0s 16ms/step\n",
      "2/2 [==============================] - 0s 4ms/step\n",
      "1/1 [==============================] - 0s 17ms/step\n",
      "1/1 [==============================] - 0s 76ms/step\n",
      "1/1 [==============================] - 0s 51ms/step\n",
      "1/1 [==============================] - 0s 35ms/step\n",
      "1/1 [==============================] - 0s 25ms/step\n",
      "1/1 [==============================] - 0s 20ms/step\n",
      "1/1 [==============================] - 0s 20ms/step\n",
      "1/1 [==============================] - 0s 17ms/step\n",
      "1/1 [==============================] - 0s 16ms/step\n",
      "1/1 [==============================] - 0s 16ms/step\n",
      "1/1 [==============================] - 0s 16ms/step\n",
      "1/1 [==============================] - 0s 16ms/step\n",
      "1/1 [==============================] - 0s 15ms/step\n",
      "2/2 [==============================] - 0s 5ms/step\n",
      "1/1 [==============================] - 0s 17ms/step\n",
      "1/1 [==============================] - 0s 51ms/step\n",
      "1/1 [==============================] - 0s 34ms/step\n",
      "1/1 [==============================] - 0s 24ms/step\n",
      "1/1 [==============================] - 0s 20ms/step\n",
      "1/1 [==============================] - 0s 17ms/step\n",
      "1/1 [==============================] - 0s 19ms/step\n",
      "1/1 [==============================] - 0s 16ms/step\n",
      "1/1 [==============================] - 0s 17ms/step\n",
      "1/1 [==============================] - 0s 17ms/step\n",
      "1/1 [==============================] - 0s 15ms/step\n",
      "1/1 [==============================] - 0s 15ms/step\n",
      "10/10 [==============================] - 0s 4ms/step\n",
      "1/1 [==============================] - 0s 24ms/step\n",
      "1/1 [==============================] - 0s 50ms/step\n",
      "1/1 [==============================] - 0s 34ms/step\n",
      "1/1 [==============================] - 0s 24ms/step\n",
      "1/1 [==============================] - 0s 20ms/step\n",
      "1/1 [==============================] - 0s 18ms/step\n",
      "1/1 [==============================] - 0s 17ms/step\n",
      "1/1 [==============================] - 0s 16ms/step\n",
      "1/1 [==============================] - 0s 16ms/step\n",
      "1/1 [==============================] - 0s 17ms/step\n",
      "1/1 [==============================] - 0s 18ms/step\n",
      "1/1 [==============================] - 0s 16ms/step\n",
      "3/3 [==============================] - 0s 4ms/step\n",
      "1/1 [==============================] - 0s 18ms/step\n",
      "1/1 [==============================] - 0s 52ms/step\n",
      "1/1 [==============================] - 0s 35ms/step\n",
      "1/1 [==============================] - 0s 25ms/step\n",
      "1/1 [==============================] - 0s 21ms/step\n",
      "1/1 [==============================] - 0s 18ms/step\n",
      "1/1 [==============================] - 0s 18ms/step\n",
      "1/1 [==============================] - 0s 17ms/step\n",
      "1/1 [==============================] - 0s 16ms/step\n",
      "1/1 [==============================] - 0s 16ms/step\n",
      "1/1 [==============================] - 0s 16ms/step\n",
      "1/1 [==============================] - 0s 16ms/step\n",
      "3/3 [==============================] - 0s 4ms/step\n",
      "1/1 [==============================] - 0s 18ms/step\n",
      "1/1 [==============================] - 0s 76ms/step\n",
      "1/1 [==============================] - 0s 53ms/step\n",
      "1/1 [==============================] - 0s 35ms/step\n",
      "1/1 [==============================] - 0s 25ms/step\n",
      "1/1 [==============================] - 0s 20ms/step\n",
      "1/1 [==============================] - 0s 18ms/step\n",
      "1/1 [==============================] - 0s 17ms/step\n",
      "1/1 [==============================] - 0s 16ms/step\n",
      "1/1 [==============================] - 0s 17ms/step\n",
      "1/1 [==============================] - 0s 17ms/step\n",
      "1/1 [==============================] - 0s 16ms/step\n",
      "1/1 [==============================] - 0s 18ms/step\n",
      "3/3 [==============================] - 0s 3ms/step\n",
      "1/1 [==============================] - 0s 19ms/step\n",
      "1/1 [==============================] - 0s 60ms/step\n",
      "1/1 [==============================] - 0s 35ms/step\n",
      "1/1 [==============================] - 0s 25ms/step\n",
      "1/1 [==============================] - 0s 22ms/step\n",
      "1/1 [==============================] - 0s 19ms/step\n",
      "1/1 [==============================] - 0s 18ms/step\n",
      "1/1 [==============================] - 0s 17ms/step\n",
      "1/1 [==============================] - 0s 17ms/step\n",
      "1/1 [==============================] - 0s 19ms/step\n",
      "1/1 [==============================] - 0s 16ms/step\n",
      "1/1 [==============================] - 0s 16ms/step\n",
      "9/9 [==============================] - 0s 4ms/step\n",
      "1/1 [==============================] - 0s 23ms/step\n",
      "1/1 [==============================] - 0s 57ms/step\n",
      "1/1 [==============================] - 0s 43ms/step\n",
      "1/1 [==============================] - 0s 29ms/step\n",
      "1/1 [==============================] - 0s 25ms/step\n",
      "1/1 [==============================] - 0s 18ms/step\n",
      "1/1 [==============================] - 0s 18ms/step\n",
      "1/1 [==============================] - 0s 20ms/step\n",
      "1/1 [==============================] - 0s 28ms/step\n",
      "1/1 [==============================] - 0s 16ms/step\n",
      "1/1 [==============================] - 0s 18ms/step\n",
      "1/1 [==============================] - 0s 18ms/step\n",
      "9/9 [==============================] - 0s 4ms/step\n",
      "1/1 [==============================] - 0s 22ms/step\n",
      "1/1 [==============================] - 0s 75ms/step\n",
      "1/1 [==============================] - 0s 67ms/step\n",
      "1/1 [==============================] - 0s 39ms/step\n",
      "1/1 [==============================] - 0s 25ms/step\n",
      "1/1 [==============================] - 0s 23ms/step\n",
      "1/1 [==============================] - 0s 21ms/step\n",
      "1/1 [==============================] - 0s 22ms/step\n",
      "1/1 [==============================] - 0s 17ms/step\n",
      "1/1 [==============================] - 0s 24ms/step\n",
      "1/1 [==============================] - 0s 20ms/step\n",
      "1/1 [==============================] - 0s 18ms/step\n",
      "1/1 [==============================] - 0s 20ms/step\n",
      "9/9 [==============================] - 0s 4ms/step\n",
      "1/1 [==============================] - 0s 25ms/step\n",
      "1/1 [==============================] - 0s 63ms/step\n",
      "1/1 [==============================] - 0s 47ms/step\n",
      "1/1 [==============================] - 0s 33ms/step\n",
      "1/1 [==============================] - 0s 27ms/step\n",
      "1/1 [==============================] - 0s 23ms/step\n",
      "1/1 [==============================] - 0s 24ms/step\n",
      "1/1 [==============================] - 0s 18ms/step\n",
      "1/1 [==============================] - 0s 19ms/step\n",
      "1/1 [==============================] - 0s 19ms/step\n",
      "1/1 [==============================] - 0s 17ms/step\n",
      "1/1 [==============================] - 0s 17ms/step\n",
      "17/17 [==============================] - 0s 4ms/step\n",
      "1/1 [==============================] - 0s 34ms/step\n",
      "1/1 [==============================] - 0s 61ms/step\n",
      "1/1 [==============================] - 0s 37ms/step\n",
      "1/1 [==============================] - 0s 32ms/step\n",
      "1/1 [==============================] - 0s 24ms/step\n",
      "1/1 [==============================] - 0s 22ms/step\n",
      "1/1 [==============================] - 0s 20ms/step\n",
      "1/1 [==============================] - 0s 17ms/step\n",
      "1/1 [==============================] - 0s 20ms/step\n",
      "1/1 [==============================] - 0s 16ms/step\n",
      "1/1 [==============================] - 0s 16ms/step\n",
      "1/1 [==============================] - 0s 19ms/step\n",
      "4/4 [==============================] - 0s 4ms/step\n",
      "1/1 [==============================] - 0s 19ms/step\n",
      "1/1 [==============================] - 0s 58ms/step\n",
      "1/1 [==============================] - 0s 36ms/step\n",
      "1/1 [==============================] - 0s 27ms/step\n",
      "1/1 [==============================] - 0s 23ms/step\n",
      "1/1 [==============================] - 0s 22ms/step\n",
      "1/1 [==============================] - 0s 19ms/step\n",
      "1/1 [==============================] - 0s 18ms/step\n",
      "1/1 [==============================] - 0s 21ms/step\n",
      "1/1 [==============================] - 0s 20ms/step\n",
      "1/1 [==============================] - 0s 18ms/step\n",
      "1/1 [==============================] - 0s 16ms/step\n",
      "4/4 [==============================] - 0s 4ms/step\n",
      "1/1 [==============================] - 0s 22ms/step\n",
      "1/1 [==============================] - 0s 78ms/step\n",
      "1/1 [==============================] - 0s 52ms/step\n",
      "1/1 [==============================] - 0s 34ms/step\n",
      "1/1 [==============================] - 0s 27ms/step\n",
      "1/1 [==============================] - 0s 21ms/step\n",
      "1/1 [==============================] - 0s 17ms/step\n",
      "1/1 [==============================] - 0s 18ms/step\n",
      "1/1 [==============================] - 0s 16ms/step\n",
      "1/1 [==============================] - 0s 15ms/step\n",
      "1/1 [==============================] - 0s 17ms/step\n",
      "1/1 [==============================] - 0s 15ms/step\n",
      "1/1 [==============================] - 0s 16ms/step\n",
      "4/4 [==============================] - 0s 4ms/step\n",
      "1/1 [==============================] - 0s 20ms/step\n",
      "1/1 [==============================] - 0s 51ms/step\n",
      "1/1 [==============================] - 0s 34ms/step\n",
      "1/1 [==============================] - 0s 25ms/step\n",
      "1/1 [==============================] - 0s 20ms/step\n",
      "1/1 [==============================] - 0s 22ms/step\n",
      "1/1 [==============================] - 0s 17ms/step\n",
      "1/1 [==============================] - 0s 22ms/step\n",
      "1/1 [==============================] - 0s 16ms/step\n",
      "1/1 [==============================] - 0s 16ms/step\n",
      "1/1 [==============================] - 0s 16ms/step\n",
      "1/1 [==============================] - 0s 17ms/step\n",
      "9/9 [==============================] - 0s 4ms/step\n",
      "1/1 [==============================] - 0s 19ms/step\n",
      "1/1 [==============================] - 0s 51ms/step\n",
      "1/1 [==============================] - 0s 34ms/step\n",
      "1/1 [==============================] - 0s 24ms/step\n",
      "1/1 [==============================] - 0s 20ms/step\n",
      "1/1 [==============================] - 0s 17ms/step\n",
      "1/1 [==============================] - 0s 17ms/step\n",
      "1/1 [==============================] - 0s 17ms/step\n",
      "1/1 [==============================] - 0s 15ms/step\n",
      "1/1 [==============================] - 0s 16ms/step\n",
      "1/1 [==============================] - 0s 15ms/step\n",
      "1/1 [==============================] - 0s 15ms/step\n",
      "3/3 [==============================] - 0s 4ms/step\n",
      "1/1 [==============================] - 0s 17ms/step\n",
      "1/1 [==============================] - 0s 51ms/step\n",
      "1/1 [==============================] - 0s 34ms/step\n",
      "1/1 [==============================] - 0s 26ms/step\n",
      "1/1 [==============================] - 0s 21ms/step\n",
      "1/1 [==============================] - 0s 18ms/step\n",
      "1/1 [==============================] - 0s 17ms/step\n",
      "1/1 [==============================] - 0s 18ms/step\n",
      "1/1 [==============================] - 0s 16ms/step\n",
      "1/1 [==============================] - 0s 17ms/step\n",
      "1/1 [==============================] - 0s 18ms/step\n",
      "1/1 [==============================] - 0s 16ms/step\n",
      "3/3 [==============================] - 0s 4ms/step\n",
      "1/1 [==============================] - 0s 19ms/step\n",
      "1/1 [==============================] - 0s 79ms/step\n",
      "1/1 [==============================] - 0s 57ms/step\n",
      "1/1 [==============================] - 0s 34ms/step\n",
      "1/1 [==============================] - 0s 25ms/step\n",
      "1/1 [==============================] - 0s 21ms/step\n",
      "1/1 [==============================] - 0s 18ms/step\n",
      "1/1 [==============================] - 0s 17ms/step\n",
      "1/1 [==============================] - 0s 17ms/step\n",
      "1/1 [==============================] - 0s 18ms/step\n",
      "1/1 [==============================] - 0s 16ms/step\n",
      "1/1 [==============================] - 0s 17ms/step\n",
      "1/1 [==============================] - 0s 15ms/step\n",
      "3/3 [==============================] - 0s 3ms/step\n",
      "1/1 [==============================] - 0s 17ms/step\n",
      "1/1 [==============================] - 0s 53ms/step\n",
      "1/1 [==============================] - 0s 33ms/step\n",
      "1/1 [==============================] - 0s 24ms/step\n",
      "1/1 [==============================] - 0s 22ms/step\n",
      "1/1 [==============================] - 0s 18ms/step\n",
      "1/1 [==============================] - 0s 17ms/step\n",
      "1/1 [==============================] - 0s 16ms/step\n",
      "1/1 [==============================] - 0s 17ms/step\n",
      "1/1 [==============================] - 0s 18ms/step\n",
      "1/1 [==============================] - 0s 16ms/step\n",
      "1/1 [==============================] - 0s 17ms/step\n",
      "10/10 [==============================] - 0s 5ms/step\n",
      "1/1 [==============================] - 0s 20ms/step\n",
      "1/1 [==============================] - 0s 59ms/step\n",
      "1/1 [==============================] - 0s 37ms/step\n",
      "1/1 [==============================] - 0s 26ms/step\n",
      "1/1 [==============================] - 0s 22ms/step\n",
      "1/1 [==============================] - 0s 17ms/step\n",
      "1/1 [==============================] - 0s 21ms/step\n",
      "1/1 [==============================] - 0s 17ms/step\n",
      "1/1 [==============================] - 0s 17ms/step\n",
      "1/1 [==============================] - 0s 17ms/step\n",
      "1/1 [==============================] - 0s 17ms/step\n",
      "1/1 [==============================] - 0s 16ms/step\n",
      "10/10 [==============================] - 0s 4ms/step\n",
      "1/1 [==============================] - 0s 23ms/step\n",
      "1/1 [==============================] - 0s 79ms/step\n",
      "1/1 [==============================] - 0s 66ms/step\n",
      "1/1 [==============================] - 0s 39ms/step\n",
      "1/1 [==============================] - 0s 35ms/step\n",
      "1/1 [==============================] - 0s 31ms/step\n",
      "1/1 [==============================] - 0s 23ms/step\n",
      "1/1 [==============================] - 0s 23ms/step\n",
      "1/1 [==============================] - 0s 24ms/step\n",
      "1/1 [==============================] - 0s 17ms/step\n",
      "1/1 [==============================] - 0s 18ms/step\n",
      "1/1 [==============================] - 0s 18ms/step\n",
      "1/1 [==============================] - 0s 17ms/step\n",
      "10/10 [==============================] - 0s 4ms/step\n",
      "1/1 [==============================] - 0s 27ms/step\n",
      "1/1 [==============================] - 0s 61ms/step\n",
      "1/1 [==============================] - 0s 36ms/step\n",
      "1/1 [==============================] - 0s 25ms/step\n",
      "1/1 [==============================] - 0s 26ms/step\n",
      "1/1 [==============================] - 0s 19ms/step\n",
      "1/1 [==============================] - 0s 22ms/step\n",
      "1/1 [==============================] - 0s 20ms/step\n",
      "1/1 [==============================] - 0s 18ms/step\n",
      "1/1 [==============================] - 0s 22ms/step\n",
      "1/1 [==============================] - 0s 17ms/step\n",
      "1/1 [==============================] - 0s 21ms/step\n",
      "3/3 [==============================] - 0s 4ms/step\n",
      "1/1 [==============================] - 0s 20ms/step\n",
      "1/1 [==============================] - 0s 66ms/step\n",
      "1/1 [==============================] - 0s 37ms/step\n",
      "1/1 [==============================] - 0s 29ms/step\n",
      "1/1 [==============================] - 0s 24ms/step\n",
      "1/1 [==============================] - 0s 18ms/step\n",
      "1/1 [==============================] - 0s 17ms/step\n",
      "1/1 [==============================] - 0s 16ms/step\n",
      "1/1 [==============================] - 0s 16ms/step\n",
      "1/1 [==============================] - 0s 17ms/step\n",
      "1/1 [==============================] - 0s 17ms/step\n",
      "1/1 [==============================] - 0s 16ms/step\n",
      "3/3 [==============================] - 0s 3ms/step\n",
      "1/1 [==============================] - 0s 17ms/step\n",
      "1/1 [==============================] - 0s 81ms/step\n",
      "1/1 [==============================] - 0s 55ms/step\n",
      "1/1 [==============================] - 0s 35ms/step\n",
      "1/1 [==============================] - 0s 25ms/step\n",
      "1/1 [==============================] - 0s 21ms/step\n",
      "1/1 [==============================] - 0s 23ms/step\n",
      "1/1 [==============================] - 0s 18ms/step\n",
      "1/1 [==============================] - 0s 18ms/step\n",
      "1/1 [==============================] - 0s 19ms/step\n",
      "1/1 [==============================] - 0s 19ms/step\n",
      "1/1 [==============================] - 0s 17ms/step\n",
      "1/1 [==============================] - 0s 16ms/step\n",
      "3/3 [==============================] - 0s 3ms/step\n",
      "1/1 [==============================] - 0s 20ms/step\n",
      "1/1 [==============================] - 0s 79ms/step\n",
      "1/1 [==============================] - 0s 39ms/step\n",
      "1/1 [==============================] - 0s 29ms/step\n",
      "1/1 [==============================] - 0s 28ms/step\n",
      "1/1 [==============================] - 0s 21ms/step\n",
      "1/1 [==============================] - 0s 21ms/step\n",
      "1/1 [==============================] - 0s 17ms/step\n",
      "1/1 [==============================] - 0s 20ms/step\n",
      "1/1 [==============================] - 0s 20ms/step\n",
      "1/1 [==============================] - 0s 17ms/step\n",
      "1/1 [==============================] - 0s 19ms/step\n",
      "4/4 [==============================] - 0s 5ms/step\n",
      "1/1 [==============================] - 0s 25ms/step\n",
      "1/1 [==============================] - 0s 88ms/step\n",
      "1/1 [==============================] - 0s 41ms/step\n",
      "1/1 [==============================] - 0s 27ms/step\n",
      "1/1 [==============================] - 0s 22ms/step\n",
      "1/1 [==============================] - 0s 20ms/step\n",
      "1/1 [==============================] - 0s 24ms/step\n",
      "1/1 [==============================] - 0s 17ms/step\n",
      "1/1 [==============================] - 0s 18ms/step\n",
      "1/1 [==============================] - 0s 18ms/step\n",
      "1/1 [==============================] - 0s 19ms/step\n",
      "1/1 [==============================] - 0s 18ms/step\n",
      "10/10 [==============================] - 0s 4ms/step\n",
      "1/1 [==============================] - 0s 24ms/step\n",
      "1/1 [==============================] - 0s 69ms/step\n",
      "1/1 [==============================] - 0s 36ms/step\n",
      "1/1 [==============================] - 0s 28ms/step\n",
      "1/1 [==============================] - 0s 21ms/step\n",
      "1/1 [==============================] - 0s 19ms/step\n",
      "1/1 [==============================] - 0s 18ms/step\n",
      "1/1 [==============================] - 0s 18ms/step\n",
      "1/1 [==============================] - 0s 18ms/step\n",
      "1/1 [==============================] - 0s 17ms/step\n",
      "1/1 [==============================] - 0s 19ms/step\n",
      "1/1 [==============================] - 0s 20ms/step\n",
      "12/12 [==============================] - 0s 4ms/step\n",
      "1/1 [==============================] - 0s 20ms/step\n",
      "1/1 [==============================] - 0s 62ms/step\n",
      "1/1 [==============================] - 0s 38ms/step\n",
      "1/1 [==============================] - 0s 31ms/step\n",
      "1/1 [==============================] - 0s 20ms/step\n",
      "1/1 [==============================] - 0s 17ms/step\n",
      "1/1 [==============================] - 0s 19ms/step\n",
      "1/1 [==============================] - 0s 18ms/step\n",
      "1/1 [==============================] - 0s 16ms/step\n",
      "1/1 [==============================] - 0s 20ms/step\n",
      "1/1 [==============================] - 0s 17ms/step\n",
      "1/1 [==============================] - 0s 15ms/step\n",
      "3/3 [==============================] - 0s 5ms/step\n",
      "1/1 [==============================] - 0s 19ms/step\n",
      "1/1 [==============================] - 0s 55ms/step\n",
      "1/1 [==============================] - 0s 32ms/step\n",
      "1/1 [==============================] - 0s 26ms/step\n",
      "1/1 [==============================] - 0s 21ms/step\n",
      "1/1 [==============================] - 0s 23ms/step\n",
      "1/1 [==============================] - 0s 18ms/step\n",
      "1/1 [==============================] - 0s 16ms/step\n",
      "1/1 [==============================] - 0s 19ms/step\n",
      "1/1 [==============================] - 0s 16ms/step\n",
      "1/1 [==============================] - 0s 16ms/step\n",
      "1/1 [==============================] - 0s 17ms/step\n",
      "3/3 [==============================] - 0s 4ms/step\n",
      "1/1 [==============================] - 0s 18ms/step\n",
      "1/1 [==============================] - 0s 75ms/step\n",
      "1/1 [==============================] - 0s 53ms/step\n",
      "1/1 [==============================] - 0s 35ms/step\n",
      "1/1 [==============================] - 0s 38ms/step\n",
      "1/1 [==============================] - 0s 21ms/step\n",
      "1/1 [==============================] - 0s 18ms/step\n",
      "1/1 [==============================] - 0s 18ms/step\n",
      "1/1 [==============================] - 0s 17ms/step\n",
      "1/1 [==============================] - 0s 23ms/step\n",
      "1/1 [==============================] - 0s 16ms/step\n",
      "1/1 [==============================] - 0s 16ms/step\n",
      "1/1 [==============================] - 0s 17ms/step\n",
      "3/3 [==============================] - 0s 4ms/step\n",
      "1/1 [==============================] - 0s 20ms/step\n",
      "1/1 [==============================] - 0s 54ms/step\n",
      "1/1 [==============================] - 0s 34ms/step\n",
      "1/1 [==============================] - 0s 25ms/step\n",
      "1/1 [==============================] - 0s 21ms/step\n",
      "1/1 [==============================] - 0s 17ms/step\n",
      "1/1 [==============================] - 0s 17ms/step\n",
      "1/1 [==============================] - 0s 16ms/step\n",
      "1/1 [==============================] - 0s 18ms/step\n",
      "1/1 [==============================] - 0s 16ms/step\n",
      "1/1 [==============================] - 0s 15ms/step\n",
      "1/1 [==============================] - 0s 15ms/step\n",
      "11/11 [==============================] - 0s 4ms/step\n",
      "1/1 [==============================] - 0s 21ms/step\n",
      "1/1 [==============================] - 0s 51ms/step\n",
      "1/1 [==============================] - 0s 33ms/step\n",
      "1/1 [==============================] - 0s 27ms/step\n",
      "1/1 [==============================] - 0s 20ms/step\n",
      "1/1 [==============================] - 0s 18ms/step\n",
      "1/1 [==============================] - 0s 18ms/step\n",
      "1/1 [==============================] - 0s 16ms/step\n",
      "1/1 [==============================] - 0s 18ms/step\n",
      "1/1 [==============================] - 0s 15ms/step\n",
      "1/1 [==============================] - 0s 16ms/step\n",
      "1/1 [==============================] - 0s 16ms/step\n",
      "11/11 [==============================] - 0s 4ms/step\n",
      "1/1 [==============================] - 0s 21ms/step\n",
      "1/1 [==============================] - 0s 79ms/step\n",
      "1/1 [==============================] - 0s 58ms/step\n",
      "1/1 [==============================] - 0s 36ms/step\n",
      "1/1 [==============================] - 0s 27ms/step\n",
      "1/1 [==============================] - 0s 20ms/step\n",
      "1/1 [==============================] - 0s 19ms/step\n",
      "1/1 [==============================] - 0s 16ms/step\n",
      "1/1 [==============================] - 0s 16ms/step\n",
      "1/1 [==============================] - 0s 17ms/step\n",
      "1/1 [==============================] - 0s 16ms/step\n",
      "1/1 [==============================] - 0s 17ms/step\n",
      "1/1 [==============================] - 0s 15ms/step\n",
      "11/11 [==============================] - 0s 4ms/step\n",
      "1/1 [==============================] - 0s 21ms/step\n",
      "1/1 [==============================] - 0s 57ms/step\n",
      "1/1 [==============================] - 0s 34ms/step\n",
      "1/1 [==============================] - 0s 25ms/step\n",
      "1/1 [==============================] - 0s 21ms/step\n",
      "1/1 [==============================] - 0s 18ms/step\n",
      "1/1 [==============================] - 0s 17ms/step\n",
      "1/1 [==============================] - 0s 21ms/step\n",
      "1/1 [==============================] - 0s 22ms/step\n",
      "1/1 [==============================] - 0s 18ms/step\n",
      "1/1 [==============================] - 0s 20ms/step\n",
      "1/1 [==============================] - 0s 16ms/step\n",
      "5/5 [==============================] - 0s 4ms/step\n",
      "1/1 [==============================] - 0s 19ms/step\n",
      "1/1 [==============================] - 0s 52ms/step\n",
      "1/1 [==============================] - 0s 35ms/step\n",
      "1/1 [==============================] - 0s 29ms/step\n",
      "1/1 [==============================] - 0s 21ms/step\n",
      "1/1 [==============================] - 0s 17ms/step\n",
      "1/1 [==============================] - 0s 17ms/step\n",
      "1/1 [==============================] - 0s 17ms/step\n",
      "1/1 [==============================] - 0s 16ms/step\n",
      "1/1 [==============================] - 0s 16ms/step\n",
      "1/1 [==============================] - 0s 16ms/step\n",
      "1/1 [==============================] - 0s 18ms/step\n",
      "5/5 [==============================] - 0s 4ms/step\n",
      "1/1 [==============================] - 0s 18ms/step\n",
      "1/1 [==============================] - 0s 73ms/step\n",
      "1/1 [==============================] - 0s 52ms/step\n",
      "1/1 [==============================] - 0s 36ms/step\n",
      "1/1 [==============================] - 0s 27ms/step\n",
      "1/1 [==============================] - 0s 22ms/step\n",
      "1/1 [==============================] - 0s 21ms/step\n",
      "1/1 [==============================] - 0s 18ms/step\n",
      "1/1 [==============================] - 0s 18ms/step\n",
      "1/1 [==============================] - 0s 16ms/step\n",
      "1/1 [==============================] - 0s 15ms/step\n",
      "1/1 [==============================] - 0s 16ms/step\n",
      "1/1 [==============================] - 0s 15ms/step\n",
      "5/5 [==============================] - 0s 5ms/step\n",
      "1/1 [==============================] - 0s 17ms/step\n",
      "1/1 [==============================] - 0s 54ms/step\n",
      "1/1 [==============================] - 0s 35ms/step\n",
      "1/1 [==============================] - 0s 25ms/step\n",
      "1/1 [==============================] - 0s 19ms/step\n",
      "1/1 [==============================] - 0s 17ms/step\n",
      "1/1 [==============================] - 0s 18ms/step\n",
      "1/1 [==============================] - 0s 16ms/step\n",
      "1/1 [==============================] - 0s 17ms/step\n",
      "1/1 [==============================] - 0s 21ms/step\n",
      "1/1 [==============================] - 0s 15ms/step\n",
      "1/1 [==============================] - 0s 16ms/step\n",
      "11/11 [==============================] - 0s 4ms/step\n",
      "1/1 [==============================] - 0s 27ms/step\n",
      "1/1 [==============================] - 0s 52ms/step\n",
      "1/1 [==============================] - 0s 35ms/step\n",
      "1/1 [==============================] - 0s 25ms/step\n",
      "1/1 [==============================] - 0s 20ms/step\n",
      "1/1 [==============================] - 0s 17ms/step\n",
      "1/1 [==============================] - 0s 18ms/step\n",
      "1/1 [==============================] - 0s 17ms/step\n",
      "1/1 [==============================] - 0s 18ms/step\n",
      "1/1 [==============================] - 0s 18ms/step\n",
      "1/1 [==============================] - 0s 14ms/step\n",
      "1/1 [==============================] - 0s 24ms/step\n",
      "9/9 [==============================] - 0s 4ms/step\n",
      "1/1 [==============================] - 0s 24ms/step\n",
      "1/1 [==============================] - 0s 53ms/step\n",
      "1/1 [==============================] - 0s 35ms/step\n",
      "1/1 [==============================] - 0s 26ms/step\n",
      "1/1 [==============================] - 0s 19ms/step\n",
      "1/1 [==============================] - 0s 17ms/step\n",
      "1/1 [==============================] - 0s 17ms/step\n",
      "1/1 [==============================] - 0s 16ms/step\n",
      "1/1 [==============================] - 0s 16ms/step\n",
      "1/1 [==============================] - 0s 16ms/step\n",
      "1/1 [==============================] - 0s 15ms/step\n",
      "1/1 [==============================] - 0s 15ms/step\n",
      "8/8 [==============================] - 0s 4ms/step\n",
      "1/1 [==============================] - 0s 21ms/step\n",
      "1/1 [==============================] - 0s 52ms/step\n",
      "1/1 [==============================] - 0s 33ms/step\n",
      "1/1 [==============================] - 0s 25ms/step\n",
      "1/1 [==============================] - 0s 20ms/step\n",
      "1/1 [==============================] - 0s 17ms/step\n",
      "1/1 [==============================] - 0s 17ms/step\n",
      "1/1 [==============================] - 0s 23ms/step\n",
      "1/1 [==============================] - 0s 16ms/step\n",
      "1/1 [==============================] - 0s 16ms/step\n",
      "1/1 [==============================] - 0s 16ms/step\n",
      "1/1 [==============================] - 0s 15ms/step\n",
      "8/8 [==============================] - 0s 4ms/step\n",
      "1/1 [==============================] - 0s 21ms/step\n",
      "1/1 [==============================] - 0s 72ms/step\n",
      "1/1 [==============================] - 0s 52ms/step\n",
      "1/1 [==============================] - 0s 34ms/step\n",
      "1/1 [==============================] - 0s 24ms/step\n",
      "1/1 [==============================] - 0s 20ms/step\n",
      "1/1 [==============================] - 0s 18ms/step\n",
      "1/1 [==============================] - 0s 18ms/step\n",
      "1/1 [==============================] - 0s 17ms/step\n",
      "1/1 [==============================] - 0s 16ms/step\n",
      "1/1 [==============================] - 0s 16ms/step\n",
      "1/1 [==============================] - 0s 15ms/step\n",
      "1/1 [==============================] - 0s 15ms/step\n",
      "8/8 [==============================] - 0s 4ms/step\n",
      "1/1 [==============================] - 0s 22ms/step\n",
      "1/1 [==============================] - 0s 50ms/step\n",
      "1/1 [==============================] - 0s 33ms/step\n",
      "1/1 [==============================] - 0s 25ms/step\n",
      "1/1 [==============================] - 0s 20ms/step\n",
      "1/1 [==============================] - 0s 18ms/step\n",
      "1/1 [==============================] - 0s 17ms/step\n",
      "1/1 [==============================] - 0s 15ms/step\n",
      "1/1 [==============================] - 0s 17ms/step\n",
      "1/1 [==============================] - 0s 15ms/step\n",
      "1/1 [==============================] - 0s 15ms/step\n",
      "1/1 [==============================] - 0s 15ms/step\n",
      "2/2 [==============================] - 0s 4ms/step\n",
      "1/1 [==============================] - 0s 16ms/step\n",
      "1/1 [==============================] - 0s 53ms/step\n",
      "1/1 [==============================] - 0s 35ms/step\n",
      "1/1 [==============================] - 0s 25ms/step\n",
      "1/1 [==============================] - 0s 21ms/step\n",
      "1/1 [==============================] - 0s 23ms/step\n",
      "1/1 [==============================] - 0s 19ms/step\n",
      "1/1 [==============================] - 0s 19ms/step\n",
      "1/1 [==============================] - 0s 17ms/step\n",
      "1/1 [==============================] - 0s 17ms/step\n",
      "1/1 [==============================] - 0s 17ms/step\n",
      "1/1 [==============================] - 0s 21ms/step\n",
      "2/2 [==============================] - 0s 5ms/step\n",
      "1/1 [==============================] - 0s 18ms/step\n",
      "1/1 [==============================] - 0s 82ms/step\n",
      "1/1 [==============================] - 0s 54ms/step\n",
      "1/1 [==============================] - 0s 34ms/step\n",
      "1/1 [==============================] - 0s 25ms/step\n",
      "1/1 [==============================] - 0s 20ms/step\n",
      "1/1 [==============================] - 0s 18ms/step\n",
      "1/1 [==============================] - 0s 17ms/step\n",
      "1/1 [==============================] - 0s 16ms/step\n",
      "1/1 [==============================] - 0s 17ms/step\n",
      "1/1 [==============================] - 0s 18ms/step\n",
      "1/1 [==============================] - 0s 18ms/step\n",
      "1/1 [==============================] - 0s 15ms/step\n",
      "2/2 [==============================] - 0s 4ms/step\n",
      "1/1 [==============================] - 0s 21ms/step\n",
      "1/1 [==============================] - 0s 54ms/step\n",
      "1/1 [==============================] - 0s 36ms/step\n",
      "1/1 [==============================] - 0s 26ms/step\n",
      "1/1 [==============================] - 0s 20ms/step\n",
      "1/1 [==============================] - 0s 26ms/step\n",
      "1/1 [==============================] - 0s 18ms/step\n",
      "1/1 [==============================] - 0s 18ms/step\n",
      "1/1 [==============================] - 0s 17ms/step\n",
      "1/1 [==============================] - 0s 17ms/step\n",
      "1/1 [==============================] - 0s 17ms/step\n",
      "1/1 [==============================] - 0s 16ms/step\n",
      "9/9 [==============================] - 0s 4ms/step\n",
      "1/1 [==============================] - 0s 21ms/step\n",
      "1/1 [==============================] - 0s 59ms/step\n",
      "1/1 [==============================] - 0s 35ms/step\n",
      "1/1 [==============================] - 0s 25ms/step\n",
      "1/1 [==============================] - 0s 22ms/step\n",
      "1/1 [==============================] - 0s 20ms/step\n",
      "1/1 [==============================] - 0s 18ms/step\n",
      "1/1 [==============================] - 0s 18ms/step\n",
      "1/1 [==============================] - 0s 19ms/step\n",
      "1/1 [==============================] - 0s 17ms/step\n",
      "1/1 [==============================] - 0s 17ms/step\n",
      "1/1 [==============================] - 0s 16ms/step\n",
      "9/9 [==============================] - 0s 4ms/step\n",
      "1/1 [==============================] - 0s 21ms/step\n",
      "1/1 [==============================] - 0s 77ms/step\n",
      "1/1 [==============================] - 0s 54ms/step\n",
      "1/1 [==============================] - 0s 35ms/step\n",
      "1/1 [==============================] - 0s 26ms/step\n",
      "1/1 [==============================] - 0s 20ms/step\n",
      "1/1 [==============================] - 0s 18ms/step\n",
      "1/1 [==============================] - 0s 18ms/step\n",
      "1/1 [==============================] - 0s 17ms/step\n",
      "1/1 [==============================] - 0s 16ms/step\n",
      "1/1 [==============================] - 0s 16ms/step\n",
      "1/1 [==============================] - 0s 16ms/step\n",
      "1/1 [==============================] - 0s 15ms/step\n",
      "9/9 [==============================] - 0s 4ms/step\n",
      "1/1 [==============================] - 0s 20ms/step\n",
      "1/1 [==============================] - 0s 55ms/step\n",
      "1/1 [==============================] - 0s 33ms/step\n",
      "1/1 [==============================] - 0s 25ms/step\n",
      "1/1 [==============================] - 0s 19ms/step\n",
      "1/1 [==============================] - 0s 18ms/step\n",
      "1/1 [==============================] - 0s 18ms/step\n",
      "1/1 [==============================] - 0s 25ms/step\n",
      "1/1 [==============================] - 0s 18ms/step\n",
      "1/1 [==============================] - 0s 17ms/step\n",
      "1/1 [==============================] - 0s 17ms/step\n",
      "1/1 [==============================] - 0s 17ms/step\n",
      "2/2 [==============================] - 0s 4ms/step\n",
      "1/1 [==============================] - 0s 18ms/step\n",
      "1/1 [==============================] - 0s 54ms/step\n",
      "1/1 [==============================] - 0s 35ms/step\n",
      "1/1 [==============================] - 0s 26ms/step\n",
      "1/1 [==============================] - 0s 22ms/step\n",
      "1/1 [==============================] - 0s 17ms/step\n",
      "1/1 [==============================] - 0s 18ms/step\n",
      "1/1 [==============================] - 0s 17ms/step\n",
      "1/1 [==============================] - 0s 15ms/step\n",
      "1/1 [==============================] - 0s 15ms/step\n",
      "1/1 [==============================] - 0s 16ms/step\n",
      "1/1 [==============================] - 0s 16ms/step\n",
      "7/7 [==============================] - 0s 4ms/step\n",
      "1/1 [==============================] - 0s 19ms/step\n",
      "1/1 [==============================] - 0s 56ms/step\n",
      "1/1 [==============================] - 0s 34ms/step\n",
      "1/1 [==============================] - 0s 25ms/step\n",
      "1/1 [==============================] - 0s 20ms/step\n",
      "1/1 [==============================] - 0s 17ms/step\n",
      "1/1 [==============================] - 0s 18ms/step\n",
      "1/1 [==============================] - 0s 16ms/step\n",
      "1/1 [==============================] - 0s 17ms/step\n",
      "1/1 [==============================] - 0s 16ms/step\n",
      "1/1 [==============================] - 0s 15ms/step\n",
      "1/1 [==============================] - 0s 16ms/step\n",
      "7/7 [==============================] - 0s 4ms/step\n",
      "1/1 [==============================] - 0s 19ms/step\n",
      "1/1 [==============================] - 0s 74ms/step\n",
      "1/1 [==============================] - 0s 53ms/step\n",
      "1/1 [==============================] - 0s 35ms/step\n",
      "1/1 [==============================] - 0s 26ms/step\n",
      "1/1 [==============================] - 0s 20ms/step\n",
      "1/1 [==============================] - 0s 17ms/step\n",
      "1/1 [==============================] - 0s 16ms/step\n",
      "1/1 [==============================] - 0s 16ms/step\n",
      "1/1 [==============================] - 0s 17ms/step\n",
      "1/1 [==============================] - 0s 23ms/step\n",
      "1/1 [==============================] - 0s 19ms/step\n",
      "1/1 [==============================] - 0s 16ms/step\n",
      "7/7 [==============================] - 0s 4ms/step\n",
      "1/1 [==============================] - 0s 19ms/step\n",
      "1/1 [==============================] - 0s 54ms/step\n",
      "1/1 [==============================] - 0s 35ms/step\n",
      "1/1 [==============================] - 0s 25ms/step\n",
      "1/1 [==============================] - 0s 21ms/step\n",
      "1/1 [==============================] - 0s 18ms/step\n",
      "1/1 [==============================] - 0s 17ms/step\n",
      "1/1 [==============================] - 0s 16ms/step\n",
      "1/1 [==============================] - 0s 16ms/step\n",
      "1/1 [==============================] - 0s 16ms/step\n",
      "1/1 [==============================] - 0s 15ms/step\n",
      "1/1 [==============================] - 0s 15ms/step\n",
      "7/7 [==============================] - 0s 4ms/step\n",
      "1/1 [==============================] - 0s 20ms/step\n",
      "1/1 [==============================] - 0s 53ms/step\n",
      "1/1 [==============================] - 0s 34ms/step\n",
      "1/1 [==============================] - 0s 26ms/step\n",
      "1/1 [==============================] - 0s 20ms/step\n",
      "1/1 [==============================] - 0s 17ms/step\n",
      "1/1 [==============================] - 0s 22ms/step\n",
      "1/1 [==============================] - 0s 18ms/step\n",
      "1/1 [==============================] - 0s 16ms/step\n",
      "1/1 [==============================] - 0s 16ms/step\n",
      "1/1 [==============================] - 0s 16ms/step\n",
      "1/1 [==============================] - 0s 16ms/step\n",
      "7/7 [==============================] - 0s 4ms/step\n",
      "1/1 [==============================] - 0s 21ms/step\n",
      "1/1 [==============================] - 0s 77ms/step\n",
      "1/1 [==============================] - 0s 53ms/step\n",
      "1/1 [==============================] - 0s 33ms/step\n",
      "1/1 [==============================] - 0s 26ms/step\n",
      "1/1 [==============================] - 0s 20ms/step\n",
      "1/1 [==============================] - 0s 18ms/step\n",
      "1/1 [==============================] - 0s 18ms/step\n",
      "1/1 [==============================] - 0s 16ms/step\n",
      "1/1 [==============================] - 0s 16ms/step\n",
      "1/1 [==============================] - 0s 16ms/step\n",
      "1/1 [==============================] - 0s 15ms/step\n",
      "1/1 [==============================] - 0s 15ms/step\n",
      "7/7 [==============================] - 0s 4ms/step\n",
      "1/1 [==============================] - 0s 22ms/step\n",
      "1/1 [==============================] - 0s 53ms/step\n",
      "1/1 [==============================] - 0s 34ms/step\n",
      "1/1 [==============================] - 0s 25ms/step\n",
      "1/1 [==============================] - 0s 21ms/step\n",
      "1/1 [==============================] - 0s 18ms/step\n",
      "1/1 [==============================] - 0s 18ms/step\n",
      "1/1 [==============================] - 0s 16ms/step\n",
      "1/1 [==============================] - 0s 17ms/step\n",
      "1/1 [==============================] - 0s 16ms/step\n",
      "1/1 [==============================] - 0s 15ms/step\n",
      "1/1 [==============================] - 0s 16ms/step\n",
      "3/3 [==============================] - 0s 4ms/step\n",
      "1/1 [==============================] - 0s 16ms/step\n",
      "1/1 [==============================] - 0s 52ms/step\n",
      "1/1 [==============================] - 0s 33ms/step\n",
      "1/1 [==============================] - 0s 24ms/step\n",
      "1/1 [==============================] - 0s 20ms/step\n",
      "1/1 [==============================] - 0s 17ms/step\n",
      "1/1 [==============================] - 0s 17ms/step\n",
      "1/1 [==============================] - 0s 17ms/step\n",
      "1/1 [==============================] - 0s 16ms/step\n",
      "1/1 [==============================] - 0s 25ms/step\n",
      "1/1 [==============================] - 0s 17ms/step\n",
      "1/1 [==============================] - 0s 15ms/step\n",
      "3/3 [==============================] - 0s 4ms/step\n",
      "1/1 [==============================] - 0s 17ms/step\n",
      "1/1 [==============================] - 0s 76ms/step\n",
      "1/1 [==============================] - 0s 53ms/step\n",
      "1/1 [==============================] - 0s 33ms/step\n",
      "1/1 [==============================] - 0s 25ms/step\n",
      "1/1 [==============================] - 0s 20ms/step\n",
      "1/1 [==============================] - 0s 18ms/step\n",
      "1/1 [==============================] - 0s 18ms/step\n",
      "1/1 [==============================] - 0s 17ms/step\n",
      "1/1 [==============================] - 0s 17ms/step\n",
      "1/1 [==============================] - 0s 17ms/step\n",
      "1/1 [==============================] - 0s 17ms/step\n",
      "1/1 [==============================] - 0s 15ms/step\n",
      "3/3 [==============================] - 0s 5ms/step\n",
      "1/1 [==============================] - 0s 18ms/step\n",
      "1/1 [==============================] - 0s 54ms/step\n",
      "1/1 [==============================] - 0s 34ms/step\n",
      "1/1 [==============================] - 0s 25ms/step\n",
      "1/1 [==============================] - 0s 31ms/step\n",
      "1/1 [==============================] - 0s 17ms/step\n",
      "1/1 [==============================] - 0s 16ms/step\n",
      "1/1 [==============================] - 0s 19ms/step\n",
      "1/1 [==============================] - 0s 16ms/step\n",
      "1/1 [==============================] - 0s 16ms/step\n",
      "1/1 [==============================] - 0s 16ms/step\n",
      "1/1 [==============================] - 0s 15ms/step\n",
      "6/6 [==============================] - 0s 4ms/step\n",
      "1/1 [==============================] - 0s 22ms/step\n",
      "1/1 [==============================] - 0s 52ms/step\n",
      "1/1 [==============================] - 0s 36ms/step\n",
      "1/1 [==============================] - 0s 26ms/step\n",
      "1/1 [==============================] - 0s 20ms/step\n",
      "1/1 [==============================] - 0s 19ms/step\n",
      "1/1 [==============================] - 0s 17ms/step\n",
      "1/1 [==============================] - 0s 16ms/step\n",
      "1/1 [==============================] - 0s 16ms/step\n",
      "1/1 [==============================] - 0s 16ms/step\n",
      "1/1 [==============================] - 0s 16ms/step\n",
      "1/1 [==============================] - 0s 18ms/step\n",
      "6/6 [==============================] - 0s 4ms/step\n",
      "1/1 [==============================] - 0s 23ms/step\n",
      "1/1 [==============================] - 0s 76ms/step\n",
      "1/1 [==============================] - 0s 54ms/step\n",
      "1/1 [==============================] - 0s 35ms/step\n",
      "1/1 [==============================] - 0s 24ms/step\n",
      "1/1 [==============================] - 0s 20ms/step\n",
      "1/1 [==============================] - 0s 17ms/step\n",
      "1/1 [==============================] - 0s 18ms/step\n",
      "1/1 [==============================] - 0s 16ms/step\n",
      "1/1 [==============================] - 0s 16ms/step\n",
      "1/1 [==============================] - 0s 17ms/step\n",
      "1/1 [==============================] - 0s 16ms/step\n",
      "1/1 [==============================] - 0s 17ms/step\n",
      "6/6 [==============================] - 0s 4ms/step\n",
      "1/1 [==============================] - 0s 23ms/step\n",
      "1/1 [==============================] - 0s 53ms/step\n",
      "1/1 [==============================] - 0s 37ms/step\n",
      "1/1 [==============================] - 0s 29ms/step\n",
      "1/1 [==============================] - 0s 21ms/step\n",
      "1/1 [==============================] - 0s 17ms/step\n",
      "1/1 [==============================] - 0s 18ms/step\n",
      "1/1 [==============================] - 0s 19ms/step\n",
      "1/1 [==============================] - 0s 16ms/step\n",
      "1/1 [==============================] - 0s 17ms/step\n",
      "1/1 [==============================] - 0s 15ms/step\n",
      "1/1 [==============================] - 0s 16ms/step\n",
      "8/8 [==============================] - 0s 4ms/step\n",
      "1/1 [==============================] - 0s 23ms/step\n",
      "1/1 [==============================] - 0s 53ms/step\n",
      "1/1 [==============================] - 0s 35ms/step\n",
      "1/1 [==============================] - 0s 26ms/step\n",
      "1/1 [==============================] - 0s 22ms/step\n",
      "1/1 [==============================] - 0s 17ms/step\n",
      "1/1 [==============================] - 0s 17ms/step\n",
      "1/1 [==============================] - 0s 16ms/step\n",
      "1/1 [==============================] - 0s 16ms/step\n",
      "1/1 [==============================] - 0s 21ms/step\n",
      "1/1 [==============================] - 0s 16ms/step\n",
      "1/1 [==============================] - 0s 15ms/step\n",
      "9/9 [==============================] - 0s 4ms/step\n",
      "1/1 [==============================] - 0s 23ms/step\n",
      "1/1 [==============================] - 0s 52ms/step\n",
      "1/1 [==============================] - 0s 33ms/step\n",
      "1/1 [==============================] - 0s 26ms/step\n",
      "1/1 [==============================] - 0s 20ms/step\n",
      "1/1 [==============================] - 0s 21ms/step\n",
      "1/1 [==============================] - 0s 18ms/step\n",
      "1/1 [==============================] - 0s 17ms/step\n",
      "1/1 [==============================] - 0s 16ms/step\n",
      "1/1 [==============================] - 0s 16ms/step\n",
      "1/1 [==============================] - 0s 16ms/step\n",
      "1/1 [==============================] - 0s 15ms/step\n",
      "9/9 [==============================] - 0s 4ms/step\n",
      "1/1 [==============================] - 0s 22ms/step\n",
      "1/1 [==============================] - 0s 77ms/step\n",
      "1/1 [==============================] - 0s 51ms/step\n",
      "1/1 [==============================] - 0s 34ms/step\n",
      "1/1 [==============================] - 0s 25ms/step\n",
      "1/1 [==============================] - 0s 20ms/step\n",
      "1/1 [==============================] - 0s 19ms/step\n",
      "1/1 [==============================] - 0s 16ms/step\n",
      "1/1 [==============================] - 0s 17ms/step\n",
      "1/1 [==============================] - 0s 16ms/step\n",
      "1/1 [==============================] - 0s 16ms/step\n",
      "1/1 [==============================] - 0s 15ms/step\n",
      "1/1 [==============================] - 0s 16ms/step\n",
      "9/9 [==============================] - 0s 4ms/step\n",
      "1/1 [==============================] - 0s 24ms/step\n",
      "1/1 [==============================] - 0s 52ms/step\n",
      "1/1 [==============================] - 0s 36ms/step\n",
      "1/1 [==============================] - 0s 24ms/step\n",
      "1/1 [==============================] - 0s 20ms/step\n",
      "1/1 [==============================] - 0s 19ms/step\n",
      "1/1 [==============================] - 0s 19ms/step\n",
      "1/1 [==============================] - 0s 17ms/step\n",
      "1/1 [==============================] - 0s 19ms/step\n",
      "1/1 [==============================] - 0s 16ms/step\n",
      "1/1 [==============================] - 0s 16ms/step\n",
      "1/1 [==============================] - 0s 15ms/step\n",
      "2/2 [==============================] - 0s 4ms/step\n",
      "1/1 [==============================] - 0s 18ms/step\n",
      "1/1 [==============================] - 0s 53ms/step\n",
      "1/1 [==============================] - 0s 33ms/step\n",
      "1/1 [==============================] - 0s 24ms/step\n",
      "1/1 [==============================] - 0s 21ms/step\n",
      "1/1 [==============================] - 0s 18ms/step\n",
      "1/1 [==============================] - 0s 17ms/step\n",
      "1/1 [==============================] - 0s 16ms/step\n",
      "1/1 [==============================] - 0s 15ms/step\n",
      "1/1 [==============================] - 0s 16ms/step\n",
      "1/1 [==============================] - 0s 21ms/step\n",
      "1/1 [==============================] - 0s 15ms/step\n",
      "2/2 [==============================] - 0s 4ms/step\n",
      "1/1 [==============================] - 0s 19ms/step\n",
      "1/1 [==============================] - 0s 76ms/step\n",
      "1/1 [==============================] - 0s 53ms/step\n",
      "1/1 [==============================] - 0s 34ms/step\n",
      "1/1 [==============================] - 0s 25ms/step\n",
      "1/1 [==============================] - 0s 21ms/step\n",
      "1/1 [==============================] - 0s 18ms/step\n",
      "1/1 [==============================] - 0s 18ms/step\n",
      "1/1 [==============================] - 0s 17ms/step\n",
      "1/1 [==============================] - 0s 16ms/step\n",
      "1/1 [==============================] - 0s 16ms/step\n",
      "1/1 [==============================] - 0s 16ms/step\n",
      "1/1 [==============================] - 0s 16ms/step\n",
      "2/2 [==============================] - 0s 5ms/step\n",
      "1/1 [==============================] - 0s 18ms/step\n",
      "1/1 [==============================] - 0s 53ms/step\n",
      "1/1 [==============================] - 0s 34ms/step\n",
      "1/1 [==============================] - 0s 26ms/step\n",
      "1/1 [==============================] - 0s 20ms/step\n",
      "1/1 [==============================] - 0s 18ms/step\n",
      "1/1 [==============================] - 0s 18ms/step\n",
      "1/1 [==============================] - 0s 16ms/step\n",
      "1/1 [==============================] - 0s 17ms/step\n",
      "1/1 [==============================] - 0s 17ms/step\n",
      "1/1 [==============================] - 0s 15ms/step\n",
      "1/1 [==============================] - 0s 15ms/step\n",
      "5/5 [==============================] - 0s 4ms/step\n",
      "1/1 [==============================] - 0s 18ms/step\n",
      "1/1 [==============================] - 0s 55ms/step\n",
      "1/1 [==============================] - 0s 33ms/step\n",
      "1/1 [==============================] - 0s 26ms/step\n",
      "1/1 [==============================] - 0s 20ms/step\n",
      "1/1 [==============================] - 0s 18ms/step\n",
      "1/1 [==============================] - 0s 18ms/step\n",
      "1/1 [==============================] - 0s 18ms/step\n",
      "1/1 [==============================] - 0s 23ms/step\n",
      "1/1 [==============================] - 0s 18ms/step\n",
      "1/1 [==============================] - 0s 16ms/step\n",
      "1/1 [==============================] - 0s 16ms/step\n",
      "5/5 [==============================] - 0s 4ms/step\n",
      "1/1 [==============================] - 0s 19ms/step\n",
      "1/1 [==============================] - 0s 77ms/step\n",
      "1/1 [==============================] - 0s 52ms/step\n",
      "1/1 [==============================] - 0s 36ms/step\n",
      "1/1 [==============================] - 0s 26ms/step\n",
      "1/1 [==============================] - 0s 21ms/step\n",
      "1/1 [==============================] - 0s 18ms/step\n",
      "1/1 [==============================] - 0s 17ms/step\n",
      "1/1 [==============================] - 0s 17ms/step\n",
      "1/1 [==============================] - 0s 16ms/step\n",
      "1/1 [==============================] - 0s 17ms/step\n",
      "1/1 [==============================] - 0s 16ms/step\n",
      "1/1 [==============================] - 0s 22ms/step\n",
      "5/5 [==============================] - 0s 4ms/step\n",
      "1/1 [==============================] - 0s 18ms/step\n",
      "1/1 [==============================] - 0s 56ms/step\n",
      "1/1 [==============================] - 0s 37ms/step\n",
      "1/1 [==============================] - 0s 27ms/step\n",
      "1/1 [==============================] - 0s 21ms/step\n",
      "1/1 [==============================] - 0s 21ms/step\n",
      "1/1 [==============================] - 0s 18ms/step\n",
      "1/1 [==============================] - 0s 18ms/step\n",
      "1/1 [==============================] - 0s 16ms/step\n",
      "1/1 [==============================] - 0s 15ms/step\n",
      "1/1 [==============================] - 0s 16ms/step\n",
      "1/1 [==============================] - 0s 16ms/step\n",
      "3/3 [==============================] - 0s 4ms/step\n",
      "1/1 [==============================] - 0s 17ms/step\n",
      "1/1 [==============================] - 0s 54ms/step\n",
      "1/1 [==============================] - 0s 33ms/step\n",
      "1/1 [==============================] - 0s 27ms/step\n",
      "1/1 [==============================] - 0s 21ms/step\n",
      "1/1 [==============================] - 0s 18ms/step\n",
      "1/1 [==============================] - 0s 18ms/step\n",
      "1/1 [==============================] - 0s 16ms/step\n",
      "1/1 [==============================] - 0s 16ms/step\n",
      "1/1 [==============================] - 0s 16ms/step\n",
      "1/1 [==============================] - 0s 15ms/step\n",
      "1/1 [==============================] - 0s 16ms/step\n",
      "3/3 [==============================] - 0s 4ms/step\n",
      "1/1 [==============================] - 0s 17ms/step\n",
      "1/1 [==============================] - 0s 78ms/step\n",
      "1/1 [==============================] - 0s 53ms/step\n",
      "1/1 [==============================] - 0s 34ms/step\n",
      "1/1 [==============================] - 0s 25ms/step\n",
      "1/1 [==============================] - 0s 21ms/step\n",
      "1/1 [==============================] - 0s 24ms/step\n",
      "1/1 [==============================] - 0s 17ms/step\n",
      "1/1 [==============================] - 0s 16ms/step\n",
      "1/1 [==============================] - 0s 16ms/step\n",
      "1/1 [==============================] - 0s 16ms/step\n",
      "1/1 [==============================] - 0s 16ms/step\n",
      "1/1 [==============================] - 0s 15ms/step\n",
      "3/3 [==============================] - 0s 5ms/step\n",
      "1/1 [==============================] - 0s 18ms/step\n",
      "1/1 [==============================] - 0s 54ms/step\n",
      "1/1 [==============================] - 0s 33ms/step\n",
      "1/1 [==============================] - 0s 25ms/step\n",
      "1/1 [==============================] - 0s 21ms/step\n",
      "1/1 [==============================] - 0s 18ms/step\n",
      "1/1 [==============================] - 0s 18ms/step\n",
      "1/1 [==============================] - 0s 24ms/step\n",
      "1/1 [==============================] - 0s 16ms/step\n",
      "1/1 [==============================] - 0s 16ms/step\n",
      "1/1 [==============================] - 0s 16ms/step\n",
      "1/1 [==============================] - 0s 19ms/step\n",
      "3/3 [==============================] - 0s 4ms/step\n"
     ]
    }
   ],
   "source": [
    "# Load MTCNN model for face detection\n",
    "detector = MTCNN()\n",
    "\n",
    "# Load FaceNet model for face embedding extraction\n",
    "facenet_model = tf.keras.applications.ResNet50(weights='imagenet')\n",
    "\n",
    "def preprocess_image(img):\n",
    "    img = cv2.cvtColor(img, cv2.COLOR_BGR2RGB)\n",
    "    img = cv2.resize(img, (224, 224))\n",
    "    img = img / 255.0 \n",
    "    return img\n",
    "\n",
    "def extract_face_embeddings(frame):\n",
    "    faces = detector.detect_faces(frame)\n",
    "    face_embeddings = []\n",
    "    for face in faces:\n",
    "        x, y, w, h = face['box']\n",
    "        x1, y1 = max(x, 0), max(y, 0)\n",
    "        x2, y2 = min(x + w, frame.shape[1]), min(y + h, frame.shape[0])\n",
    "        cropped_face = frame[y1:y2, x1:x2]\n",
    "        \n",
    "        # Preprocess the face for FaceNet model\n",
    "        preprocessed_face = preprocess_image(cropped_face)\n",
    "        preprocessed_face = np.expand_dims(preprocessed_face, axis=0)\n",
    "        \n",
    "        # Get face embeddings using FaceNet model\n",
    "        face_embedding = facenet_model.predict(preprocessed_face)\n",
    "        face_embeddings.append(face_embedding)\n",
    "    return face_embeddings\n",
    "\n",
    "# Read video\n",
    "folder_path = 'dev_splits_complete/'\n",
    "one_face_videos = {}\n",
    "\n",
    "for idx,row in df.iterrows():\n",
    "    file_name = 'dia' + str(row['Dialogue_ID']) + '_utt' + str(row['Utterance_ID']) + '.mp4'\n",
    "    video_path = folder_path + file_name\n",
    "    if os.path.isfile(video_path):\n",
    "        video_capture = cv2.VideoCapture(video_path)  # Provide the path to your input video\n",
    "\n",
    "        single_video_embeddings = []  # List to store embeddings for all frames\n",
    "\n",
    "        while True:\n",
    "            ret, frame = video_capture.read()\n",
    "            if not ret:\n",
    "                break\n",
    "\n",
    "            #check for more than 1 faces\n",
    "            if len(detector.detect_faces(frame)) == 1:\n",
    "            \n",
    "                # Extract face embeddings from each frame\n",
    "                extracted_embeddings = extract_face_embeddings(frame)\n",
    "                \n",
    "                single_video_embeddings.append(extracted_embeddings)  # Append embeddings for this frame\n",
    "                \n",
    "                # Display the frame with bounding boxes around detected faces\n",
    "                for face in detector.detect_faces(frame):\n",
    "                    x, y, w, h = face['box']\n",
    "                    cv2.rectangle(frame, (x, y), (x + w, y + h), (0, 255, 0), 2)\n",
    "                \n",
    "                cv2.imshow('Video', frame)\n",
    "                \n",
    "                if cv2.waitKey(1) & 0xFF == ord('q'):\n",
    "                    break\n",
    "\n",
    "                video_capture.release()\n",
    "                cv2.destroyAllWindows()\n",
    "\n",
    "            else:\n",
    "                break\n",
    "        if single_video_embeddings != []:            \n",
    "            one_face_videos[file_name] = single_video_embeddings\n",
    "        else:\n",
    "            one_face_videos[file_name] = 'too many faces'\n",
    "\n",
    "                \n",
    "\n",
    "\n"
   ]
  },
  {
   "cell_type": "code",
   "execution_count": 8,
   "metadata": {},
   "outputs": [
    {
     "name": "stderr",
     "output_type": "stream",
     "text": [
      "C:\\Users\\gsevr\\AppData\\Local\\Temp\\ipykernel_19024\\1239130037.py:5: SettingWithCopyWarning: \n",
      "A value is trying to be set on a copy of a slice from a DataFrame.\n",
      "Try using .loc[row_indexer,col_indexer] = value instead\n",
      "\n",
      "See the caveats in the documentation: https://pandas.pydata.org/pandas-docs/stable/user_guide/indexing.html#returning-a-view-versus-a-copy\n",
      "  df['faces'] = df.faces.apply(lambda x: x[0][0][0])\n"
     ]
    }
   ],
   "source": [
    "df['faces'] = one_face_videos.values()\n",
    "\n",
    "df = df[df.faces != 'too many faces']\n",
    "\n",
    "df['faces'] = df.faces.apply(lambda x: x[0][0][0])\n"
   ]
  },
  {
   "cell_type": "code",
   "execution_count": 9,
   "metadata": {},
   "outputs": [],
   "source": [
    "# base_model = InceptionV3(weights='imagenet', include_top=False)\n",
    "\n",
    "# model = Model(inputs=base_model.input, outputs=base_model.layers[-2].output)\n",
    "\n",
    "# def get_video_embeddings(video_path):\n",
    "#     cap = cv2.VideoCapture(video_path)\n",
    "#     frame_embeddings = []\n",
    "\n",
    "#     while True:\n",
    "#         ret, frame = cap.read()\n",
    "#         if not ret:\n",
    "#             break\n",
    "\n",
    "#         frame = cv2.resize(frame, (299, 299))\n",
    "#         x = np.expand_dims(frame, axis=0)\n",
    "\n",
    "#         x = preprocess_input(x)\n",
    "\n",
    "#         frame_embedding = model.predict(x)\n",
    "\n",
    "#         frame_embeddings.append(frame_embedding)\n",
    "\n",
    "#     cap.release()\n",
    "#     return frame_embeddings\n",
    "\n",
    "\n",
    "\n",
    "# video_embeddings_list = []\n",
    "# folder_path = 'dev_splits_complete/'\n",
    "\n",
    "# for idx,row in df.iterrows():\n",
    "#     file_name = 'dia' + str(row['Dialogue_ID']) + '_utt' + str(row['Utterance_ID']) + '.mp4'\n",
    "#     video_path = folder_path + file_name\n",
    "#     if os.path.isfile(video_path):\n",
    "#         video_embeddings_list.append(get_video_embeddings(video_path))\n",
    "#     else:\n",
    "#         print(f'File name {file_name} does not exist')\n",
    "\n",
    "# df['video'] = video_embeddings_list\n",
    "        \n"
   ]
  },
  {
   "cell_type": "code",
   "execution_count": 28,
   "metadata": {},
   "outputs": [],
   "source": [
    "G = nx.Graph()\n"
   ]
  },
  {
   "cell_type": "code",
   "execution_count": 29,
   "metadata": {},
   "outputs": [],
   "source": [
    "\n",
    "emotion_col = {\n",
    "            'sadness':'teal',\n",
    "            'surprise':'silver',\n",
    "            'neutral':'lightgreen',\n",
    "            'joy':'purple',\n",
    "            'anger':'black',\n",
    "            'disgust': 'brown',\n",
    "            'fear':'yellow'\n",
    "}\n",
    "\n",
    "gender_col = {\n",
    "    'male':'blue',\n",
    "    'female':'pink'\n",
    "}"
   ]
  },
  {
   "cell_type": "code",
   "execution_count": 10,
   "metadata": {},
   "outputs": [],
   "source": [
    "for emotion in df.Emotion.unique():\n",
    "    G.add_node(emotion, color=emotion_col[emotion],hover=emotion,emotion=emotion, type='emotion')\n"
   ]
  },
  {
   "cell_type": "code",
   "execution_count": 12,
   "metadata": {},
   "outputs": [],
   "source": [
    "for gender in df.gender.unique():\n",
    "    G.add_node(gender,color=gender_col[gender], hover=gender, gender=gender, type='gender')"
   ]
  },
  {
   "cell_type": "code",
   "execution_count": 30,
   "metadata": {},
   "outputs": [],
   "source": [
    "for idx, row in df.iterrows():\n",
    "    G.add_node(row['Utterance'], \n",
    "    text_embedding=row['text'],\n",
    "    visual_embedding=row['faces'],\n",
    "    color=emotion_col[row['Emotion']],\n",
    "    hover=row['Utterance'],\n",
    "    emotion=row['Emotion'],\n",
    "    gender=row['gender'], \n",
    "    type='utterance',\n",
    "    padding='zero')"
   ]
  },
  {
   "cell_type": "code",
   "execution_count": 14,
   "metadata": {},
   "outputs": [],
   "source": [
    "for idx, row in df.iterrows():\n",
    "    G.add_edge(row['Utterance'], row['Emotion'],color=emotion_col[row['Emotion']])\n",
    "    G.add_edge(row['Utterance'], row['gender'], color=gender_col[row['gender']])\n"
   ]
  },
  {
   "cell_type": "code",
   "execution_count": 15,
   "metadata": {},
   "outputs": [],
   "source": [
    "pos = nx.spring_layout(G)\n",
    "# pos = nx.fruchterman_reingold_layout(G)\n"
   ]
  },
  {
   "cell_type": "code",
   "execution_count": 16,
   "metadata": {},
   "outputs": [
    {
     "data": {
      "application/vnd.plotly.v1+json": {
       "config": {
        "plotlyServerURL": "https://plot.ly"
       },
       "data": [
        {
         "hovertemplate": "surprise",
         "hovertext": "surprise",
         "marker": {
          "color": "silver",
          "size": 10
         },
         "name": "emotion",
         "type": "scatter",
         "x": [
          -0.12382228713549062
         ],
         "y": [
          -0.34113169980151437
         ]
        },
        {
         "hovertemplate": "sadness",
         "hovertext": "sadness",
         "marker": {
          "color": "teal",
          "size": 10
         },
         "name": "emotion",
         "type": "scatter",
         "x": [
          -0.36024813822154583
         ],
         "y": [
          -0.17784720692211195
         ]
        },
        {
         "hovertemplate": "neutral",
         "hovertext": "neutral",
         "marker": {
          "color": "lightgreen",
          "size": 10
         },
         "name": "emotion",
         "type": "scatter",
         "x": [
          0.2699287242528041
         ],
         "y": [
          -0.299690737673454
         ]
        },
        {
         "hovertemplate": "joy",
         "hovertext": "joy",
         "marker": {
          "color": "purple",
          "size": 10
         },
         "name": "emotion",
         "type": "scatter",
         "x": [
          -0.4556681573163097
         ],
         "y": [
          0.8643070101088016
         ]
        },
        {
         "hovertemplate": "disgust",
         "hovertext": "disgust",
         "marker": {
          "color": "brown",
          "size": 10
         },
         "name": "emotion",
         "type": "scatter",
         "x": [
          0.5650597899458216
         ],
         "y": [
          0.7571282617674946
         ]
        },
        {
         "hovertemplate": "anger",
         "hovertext": "anger",
         "marker": {
          "color": "black",
          "size": 10
         },
         "name": "emotion",
         "type": "scatter",
         "x": [
          0.05020811515170475
         ],
         "y": [
          1
         ]
        },
        {
         "hovertemplate": "female",
         "hovertext": "female",
         "marker": {
          "color": "pink",
          "size": 10
         },
         "name": "gender",
         "type": "scatter",
         "x": [
          0.0407317582856893
         ],
         "y": [
          -0.4948873383949804
         ]
        },
        {
         "hovertemplate": "male",
         "hovertext": "male",
         "marker": {
          "color": "blue",
          "size": 10
         },
         "name": "gender",
         "type": "scatter",
         "x": [
          -0.059202944592539206
         ],
         "y": [
          0.4234161373046311
         ]
        },
        {
         "hovertemplate": "Y'know, you look nothing like I would've thought.<br>You'reyou're so young.",
         "hovertext": "Y'know, you look nothing like I would've thought.<br>You'reyou're so young.",
         "marker": {
          "color": "silver",
          "size": 10
         },
         "name": "surprise",
         "type": "scatter",
         "x": [
          -0.1250784886605516
         ],
         "y": [
          -0.6533316859258751
         ]
        },
        {
         "hovertemplate": "Toby don't.",
         "hovertext": "Toby don't.",
         "marker": {
          "color": "teal",
          "size": 10
         },
         "name": "sadness",
         "type": "scatter",
         "x": [
          -0.35715919575843935
         ],
         "y": [
          -0.4473773393149743
         ]
        },
        {
         "hovertemplate": "Well, it's pretty much the gist. Well, except for<br>the poem. You read the poem, right?",
         "hovertext": "Well, it's pretty much the gist. Well, except for<br>the poem. You read the poem, right?",
         "marker": {
          "color": "lightgreen",
          "size": 10
         },
         "name": "neutral",
         "type": "scatter",
         "x": [
          0.3358573299133091
         ],
         "y": [
          -0.4580347262355667
         ]
        },
        {
         "hovertemplate": "I'm sorry.",
         "hovertext": "I'm sorry.",
         "marker": {
          "color": "teal",
          "size": 10
         },
         "name": "sadness",
         "type": "scatter",
         "x": [
          -0.2599769994440485
         ],
         "y": [
          -0.4162855652472118
         ]
        },
        {
         "hovertemplate": "So it's kinda like, you're, you know.",
         "hovertext": "So it's kinda like, you're, you know.",
         "marker": {
          "color": "lightgreen",
          "size": 10
         },
         "name": "neutral",
         "type": "scatter",
         "x": [
          0.21846488117276824
         ],
         "y": [
          0.11977103051967933
         ]
        },
        {
         "hovertemplate": "Yeah, you're great! Okay, let's take it from",
         "hovertext": "Yeah, you're great! Okay, let's take it from",
         "marker": {
          "color": "purple",
          "size": 10
         },
         "name": "joy",
         "type": "scatter",
         "x": [
          -0.2631164664489393
         ],
         "y": [
          0.728052008592876
         ]
        },
        {
         "hovertemplate": "What?",
         "hovertext": "What?",
         "marker": {
          "color": "lightgreen",
          "size": 10
         },
         "name": "neutral",
         "type": "scatter",
         "x": [
          0.19703654812261076
         ],
         "y": [
          -0.5483443500341095
         ]
        },
        {
         "hovertemplate": "Come on man!  Listen so uh, are you gonna squeeze<br>the perps shoes a little bit before he lawyers up?",
         "hovertext": "Come on man!  Listen so uh, are you gonna squeeze<br>the perps shoes a little bit before he lawyers up?",
         "marker": {
          "color": "purple",
          "size": 10
         },
         "name": "joy",
         "type": "scatter",
         "x": [
          -0.34860148877994424
         ],
         "y": [
          0.6512542086202204
         ]
        },
        {
         "hovertemplate": "Mom already called this morning to remind me not<br>to wear my hair up. Did you know my ears are not<br>my best feature?",
         "hovertext": "Mom already called this morning to remind me not<br>to wear my hair up. Did you know my ears are not<br>my best feature?",
         "marker": {
          "color": "lightgreen",
          "size": 10
         },
         "name": "neutral",
         "type": "scatter",
         "x": [
          0.3855717600626182
         ],
         "y": [
          -0.3540577100844168
         ]
        },
        {
         "hovertemplate": "I mean shoulda seen it, I mean Carol and I'd be<br>out and she'd, she'd see some beautiful woman,<br>and, and she'd be Ross y'know look at her, and I'd<br>think, God, my wife is cool!",
         "hovertext": "I mean shoulda seen it, I mean Carol and I'd be<br>out and she'd, she'd see some beautiful woman,<br>and, and she'd be Ross y'know look at her, and I'd<br>think, God, my wife is cool!",
         "marker": {
          "color": "teal",
          "size": 10
         },
         "name": "sadness",
         "type": "scatter",
         "x": [
          -0.35978685052148734
         ],
         "y": [
          0.18943256431938477
         ]
        },
        {
         "hovertemplate": "Rachel, it's going to happen. Chandler is gonna<br>move in here.",
         "hovertext": "Rachel, it's going to happen. Chandler is gonna<br>move in here.",
         "marker": {
          "color": "lightgreen",
          "size": 10
         },
         "name": "neutral",
         "type": "scatter",
         "x": [
          0.39558149649456237
         ],
         "y": [
          -0.5393960500480856
         ]
        },
        {
         "hovertemplate": "I mean it's the end of an era!",
         "hovertext": "I mean it's the end of an era!",
         "marker": {
          "color": "teal",
          "size": 10
         },
         "name": "sadness",
         "type": "scatter",
         "x": [
          -0.2224203098456844
         ],
         "y": [
          -0.30627686803615245
         ]
        },
        {
         "hovertemplate": "Hey Monica, there's a customer who wants to<br>complement the chef, should I let him in?",
         "hovertext": "Hey Monica, there's a customer who wants to<br>complement the chef, should I let him in?",
         "marker": {
          "color": "lightgreen",
          "size": 10
         },
         "name": "neutral",
         "type": "scatter",
         "x": [
          0.171787849473783
         ],
         "y": [
          -0.3863352500620028
         ]
        },
        {
         "hovertemplate": "That she left you?",
         "hovertext": "That she left you?",
         "marker": {
          "color": "silver",
          "size": 10
         },
         "name": "surprise",
         "type": "scatter",
         "x": [
          -0.11173926522858524
         ],
         "y": [
          0.055297295852766506
         ]
        },
        {
         "hovertemplate": "Plus it sounds really great.",
         "hovertext": "Plus it sounds really great.",
         "marker": {
          "color": "lightgreen",
          "size": 10
         },
         "name": "neutral",
         "type": "scatter",
         "x": [
          0.13302324139770488
         ],
         "y": [
          0.08509096636276557
         ]
        },
        {
         "hovertemplate": "Oh, me too.",
         "hovertext": "Oh, me too.",
         "marker": {
          "color": "lightgreen",
          "size": 10
         },
         "name": "neutral",
         "type": "scatter",
         "x": [
          0.2088752357536329
         ],
         "y": [
          -0.6528386557416606
         ]
        },
        {
         "hovertemplate": "That would be no.",
         "hovertext": "That would be no.",
         "marker": {
          "color": "brown",
          "size": 10
         },
         "name": "disgust",
         "type": "scatter",
         "x": [
          0.29420964635484637
         ],
         "y": [
          0.625254122600806
         ]
        },
        {
         "hovertemplate": "Here!",
         "hovertext": "Here!",
         "marker": {
          "color": "black",
          "size": 10
         },
         "name": "anger",
         "type": "scatter",
         "x": [
          0.064736008895455
         ],
         "y": [
          0.7591621404639916
         ]
        },
        {
         "hovertemplate": "I'm the lead in Mac and C.H.E.E.S.E.!!",
         "hovertext": "I'm the lead in Mac and C.H.E.E.S.E.!!",
         "marker": {
          "color": "black",
          "size": 10
         },
         "name": "anger",
         "type": "scatter",
         "x": [
          -0.04615093140484527
         ],
         "y": [
          0.7854356844942482
         ]
        },
        {
         "hovertemplate": "I never meant for you to find out!",
         "hovertext": "I never meant for you to find out!",
         "marker": {
          "color": "teal",
          "size": 10
         },
         "name": "sadness",
         "type": "scatter",
         "x": [
          -0.2830421814784799
         ],
         "y": [
          -0.5206103066997755
         ]
        },
        {
         "hovertemplate": "No. No, she told me his name was Ken Adams.",
         "hovertext": "No. No, she told me his name was Ken Adams.",
         "marker": {
          "color": "lightgreen",
          "size": 10
         },
         "name": "neutral",
         "type": "scatter",
         "x": [
          0.3135455284634999
         ],
         "y": [
          -0.6086122195026136
         ]
        },
        {
         "hovertemplate": "Listen, I ah, I gotta say good bye, and-and I<br>gotta say it quick cause this is killing me.",
         "hovertext": "Listen, I ah, I gotta say good bye, and-and I<br>gotta say it quick cause this is killing me.",
         "marker": {
          "color": "teal",
          "size": 10
         },
         "name": "sadness",
         "type": "scatter",
         "x": [
          -0.2686042089039188
         ],
         "y": [
          0.16145627871684043
         ]
        },
        {
         "line": {
          "color": "silver",
          "width": 1
         },
         "mode": "lines",
         "name": "Edge",
         "type": "scatter",
         "x": [
          -0.12382228713549062,
          -0.1250784886605516
         ],
         "y": [
          -0.34113169980151437,
          -0.6533316859258751
         ]
        },
        {
         "line": {
          "color": "silver",
          "width": 1
         },
         "mode": "lines",
         "name": "Edge",
         "type": "scatter",
         "x": [
          -0.12382228713549062,
          -0.11173926522858524
         ],
         "y": [
          -0.34113169980151437,
          0.055297295852766506
         ]
        },
        {
         "line": {
          "color": "teal",
          "width": 1
         },
         "mode": "lines",
         "name": "Edge",
         "type": "scatter",
         "x": [
          -0.36024813822154583,
          -0.35715919575843935
         ],
         "y": [
          -0.17784720692211195,
          -0.4473773393149743
         ]
        },
        {
         "line": {
          "color": "teal",
          "width": 1
         },
         "mode": "lines",
         "name": "Edge",
         "type": "scatter",
         "x": [
          -0.36024813822154583,
          -0.2599769994440485
         ],
         "y": [
          -0.17784720692211195,
          -0.4162855652472118
         ]
        },
        {
         "line": {
          "color": "teal",
          "width": 1
         },
         "mode": "lines",
         "name": "Edge",
         "type": "scatter",
         "x": [
          -0.36024813822154583,
          -0.35978685052148734
         ],
         "y": [
          -0.17784720692211195,
          0.18943256431938477
         ]
        },
        {
         "line": {
          "color": "teal",
          "width": 1
         },
         "mode": "lines",
         "name": "Edge",
         "type": "scatter",
         "x": [
          -0.36024813822154583,
          -0.2224203098456844
         ],
         "y": [
          -0.17784720692211195,
          -0.30627686803615245
         ]
        },
        {
         "line": {
          "color": "teal",
          "width": 1
         },
         "mode": "lines",
         "name": "Edge",
         "type": "scatter",
         "x": [
          -0.36024813822154583,
          -0.2830421814784799
         ],
         "y": [
          -0.17784720692211195,
          -0.5206103066997755
         ]
        },
        {
         "line": {
          "color": "teal",
          "width": 1
         },
         "mode": "lines",
         "name": "Edge",
         "type": "scatter",
         "x": [
          -0.36024813822154583,
          -0.2686042089039188
         ],
         "y": [
          -0.17784720692211195,
          0.16145627871684043
         ]
        },
        {
         "line": {
          "color": "lightgreen",
          "width": 1
         },
         "mode": "lines",
         "name": "Edge",
         "type": "scatter",
         "x": [
          0.2699287242528041,
          0.3358573299133091
         ],
         "y": [
          -0.299690737673454,
          -0.4580347262355667
         ]
        },
        {
         "line": {
          "color": "lightgreen",
          "width": 1
         },
         "mode": "lines",
         "name": "Edge",
         "type": "scatter",
         "x": [
          0.2699287242528041,
          0.21846488117276824
         ],
         "y": [
          -0.299690737673454,
          0.11977103051967933
         ]
        },
        {
         "line": {
          "color": "lightgreen",
          "width": 1
         },
         "mode": "lines",
         "name": "Edge",
         "type": "scatter",
         "x": [
          0.2699287242528041,
          0.19703654812261076
         ],
         "y": [
          -0.299690737673454,
          -0.5483443500341095
         ]
        },
        {
         "line": {
          "color": "lightgreen",
          "width": 1
         },
         "mode": "lines",
         "name": "Edge",
         "type": "scatter",
         "x": [
          0.2699287242528041,
          0.3855717600626182
         ],
         "y": [
          -0.299690737673454,
          -0.3540577100844168
         ]
        },
        {
         "line": {
          "color": "lightgreen",
          "width": 1
         },
         "mode": "lines",
         "name": "Edge",
         "type": "scatter",
         "x": [
          0.2699287242528041,
          0.39558149649456237
         ],
         "y": [
          -0.299690737673454,
          -0.5393960500480856
         ]
        },
        {
         "line": {
          "color": "lightgreen",
          "width": 1
         },
         "mode": "lines",
         "name": "Edge",
         "type": "scatter",
         "x": [
          0.2699287242528041,
          0.171787849473783
         ],
         "y": [
          -0.299690737673454,
          -0.3863352500620028
         ]
        },
        {
         "line": {
          "color": "lightgreen",
          "width": 1
         },
         "mode": "lines",
         "name": "Edge",
         "type": "scatter",
         "x": [
          0.2699287242528041,
          0.13302324139770488
         ],
         "y": [
          -0.299690737673454,
          0.08509096636276557
         ]
        },
        {
         "line": {
          "color": "lightgreen",
          "width": 1
         },
         "mode": "lines",
         "name": "Edge",
         "type": "scatter",
         "x": [
          0.2699287242528041,
          0.2088752357536329
         ],
         "y": [
          -0.299690737673454,
          -0.6528386557416606
         ]
        },
        {
         "line": {
          "color": "lightgreen",
          "width": 1
         },
         "mode": "lines",
         "name": "Edge",
         "type": "scatter",
         "x": [
          0.2699287242528041,
          0.3135455284634999
         ],
         "y": [
          -0.299690737673454,
          -0.6086122195026136
         ]
        },
        {
         "line": {
          "color": "purple",
          "width": 1
         },
         "mode": "lines",
         "name": "Edge",
         "type": "scatter",
         "x": [
          -0.4556681573163097,
          -0.2631164664489393
         ],
         "y": [
          0.8643070101088016,
          0.728052008592876
         ]
        },
        {
         "line": {
          "color": "purple",
          "width": 1
         },
         "mode": "lines",
         "name": "Edge",
         "type": "scatter",
         "x": [
          -0.4556681573163097,
          -0.34860148877994424
         ],
         "y": [
          0.8643070101088016,
          0.6512542086202204
         ]
        },
        {
         "line": {
          "color": "brown",
          "width": 1
         },
         "mode": "lines",
         "name": "Edge",
         "type": "scatter",
         "x": [
          0.5650597899458216,
          0.29420964635484637
         ],
         "y": [
          0.7571282617674946,
          0.625254122600806
         ]
        },
        {
         "line": {
          "color": "black",
          "width": 1
         },
         "mode": "lines",
         "name": "Edge",
         "type": "scatter",
         "x": [
          0.05020811515170475,
          0.064736008895455
         ],
         "y": [
          1,
          0.7591621404639916
         ]
        },
        {
         "line": {
          "color": "black",
          "width": 1
         },
         "mode": "lines",
         "name": "Edge",
         "type": "scatter",
         "x": [
          0.05020811515170475,
          -0.04615093140484527
         ],
         "y": [
          1,
          0.7854356844942482
         ]
        },
        {
         "line": {
          "color": "pink",
          "width": 1
         },
         "mode": "lines",
         "name": "Edge",
         "type": "scatter",
         "x": [
          0.0407317582856893,
          -0.1250784886605516
         ],
         "y": [
          -0.4948873383949804,
          -0.6533316859258751
         ]
        },
        {
         "line": {
          "color": "pink",
          "width": 1
         },
         "mode": "lines",
         "name": "Edge",
         "type": "scatter",
         "x": [
          0.0407317582856893,
          -0.35715919575843935
         ],
         "y": [
          -0.4948873383949804,
          -0.4473773393149743
         ]
        },
        {
         "line": {
          "color": "pink",
          "width": 1
         },
         "mode": "lines",
         "name": "Edge",
         "type": "scatter",
         "x": [
          0.0407317582856893,
          0.3358573299133091
         ],
         "y": [
          -0.4948873383949804,
          -0.4580347262355667
         ]
        },
        {
         "line": {
          "color": "pink",
          "width": 1
         },
         "mode": "lines",
         "name": "Edge",
         "type": "scatter",
         "x": [
          0.0407317582856893,
          -0.2599769994440485
         ],
         "y": [
          -0.4948873383949804,
          -0.4162855652472118
         ]
        },
        {
         "line": {
          "color": "pink",
          "width": 1
         },
         "mode": "lines",
         "name": "Edge",
         "type": "scatter",
         "x": [
          0.0407317582856893,
          0.19703654812261076
         ],
         "y": [
          -0.4948873383949804,
          -0.5483443500341095
         ]
        },
        {
         "line": {
          "color": "pink",
          "width": 1
         },
         "mode": "lines",
         "name": "Edge",
         "type": "scatter",
         "x": [
          0.0407317582856893,
          0.3855717600626182
         ],
         "y": [
          -0.4948873383949804,
          -0.3540577100844168
         ]
        },
        {
         "line": {
          "color": "pink",
          "width": 1
         },
         "mode": "lines",
         "name": "Edge",
         "type": "scatter",
         "x": [
          0.0407317582856893,
          0.39558149649456237
         ],
         "y": [
          -0.4948873383949804,
          -0.5393960500480856
         ]
        },
        {
         "line": {
          "color": "pink",
          "width": 1
         },
         "mode": "lines",
         "name": "Edge",
         "type": "scatter",
         "x": [
          0.0407317582856893,
          -0.2224203098456844
         ],
         "y": [
          -0.4948873383949804,
          -0.30627686803615245
         ]
        },
        {
         "line": {
          "color": "pink",
          "width": 1
         },
         "mode": "lines",
         "name": "Edge",
         "type": "scatter",
         "x": [
          0.0407317582856893,
          0.171787849473783
         ],
         "y": [
          -0.4948873383949804,
          -0.3863352500620028
         ]
        },
        {
         "line": {
          "color": "pink",
          "width": 1
         },
         "mode": "lines",
         "name": "Edge",
         "type": "scatter",
         "x": [
          0.0407317582856893,
          0.2088752357536329
         ],
         "y": [
          -0.4948873383949804,
          -0.6528386557416606
         ]
        },
        {
         "line": {
          "color": "pink",
          "width": 1
         },
         "mode": "lines",
         "name": "Edge",
         "type": "scatter",
         "x": [
          0.0407317582856893,
          -0.2830421814784799
         ],
         "y": [
          -0.4948873383949804,
          -0.5206103066997755
         ]
        },
        {
         "line": {
          "color": "pink",
          "width": 1
         },
         "mode": "lines",
         "name": "Edge",
         "type": "scatter",
         "x": [
          0.0407317582856893,
          0.3135455284634999
         ],
         "y": [
          -0.4948873383949804,
          -0.6086122195026136
         ]
        },
        {
         "line": {
          "color": "blue",
          "width": 1
         },
         "mode": "lines",
         "name": "Edge",
         "type": "scatter",
         "x": [
          -0.059202944592539206,
          0.21846488117276824
         ],
         "y": [
          0.4234161373046311,
          0.11977103051967933
         ]
        },
        {
         "line": {
          "color": "blue",
          "width": 1
         },
         "mode": "lines",
         "name": "Edge",
         "type": "scatter",
         "x": [
          -0.059202944592539206,
          -0.2631164664489393
         ],
         "y": [
          0.4234161373046311,
          0.728052008592876
         ]
        },
        {
         "line": {
          "color": "blue",
          "width": 1
         },
         "mode": "lines",
         "name": "Edge",
         "type": "scatter",
         "x": [
          -0.059202944592539206,
          -0.34860148877994424
         ],
         "y": [
          0.4234161373046311,
          0.6512542086202204
         ]
        },
        {
         "line": {
          "color": "blue",
          "width": 1
         },
         "mode": "lines",
         "name": "Edge",
         "type": "scatter",
         "x": [
          -0.059202944592539206,
          -0.35978685052148734
         ],
         "y": [
          0.4234161373046311,
          0.18943256431938477
         ]
        },
        {
         "line": {
          "color": "blue",
          "width": 1
         },
         "mode": "lines",
         "name": "Edge",
         "type": "scatter",
         "x": [
          -0.059202944592539206,
          -0.11173926522858524
         ],
         "y": [
          0.4234161373046311,
          0.055297295852766506
         ]
        },
        {
         "line": {
          "color": "blue",
          "width": 1
         },
         "mode": "lines",
         "name": "Edge",
         "type": "scatter",
         "x": [
          -0.059202944592539206,
          0.13302324139770488
         ],
         "y": [
          0.4234161373046311,
          0.08509096636276557
         ]
        },
        {
         "line": {
          "color": "blue",
          "width": 1
         },
         "mode": "lines",
         "name": "Edge",
         "type": "scatter",
         "x": [
          -0.059202944592539206,
          0.29420964635484637
         ],
         "y": [
          0.4234161373046311,
          0.625254122600806
         ]
        },
        {
         "line": {
          "color": "blue",
          "width": 1
         },
         "mode": "lines",
         "name": "Edge",
         "type": "scatter",
         "x": [
          -0.059202944592539206,
          0.064736008895455
         ],
         "y": [
          0.4234161373046311,
          0.7591621404639916
         ]
        },
        {
         "line": {
          "color": "blue",
          "width": 1
         },
         "mode": "lines",
         "name": "Edge",
         "type": "scatter",
         "x": [
          -0.059202944592539206,
          -0.04615093140484527
         ],
         "y": [
          0.4234161373046311,
          0.7854356844942482
         ]
        },
        {
         "line": {
          "color": "blue",
          "width": 1
         },
         "mode": "lines",
         "name": "Edge",
         "type": "scatter",
         "x": [
          -0.059202944592539206,
          -0.2686042089039188
         ],
         "y": [
          0.4234161373046311,
          0.16145627871684043
         ]
        }
       ],
       "layout": {
        "showlegend": false,
        "template": {
         "data": {
          "bar": [
           {
            "error_x": {
             "color": "#2a3f5f"
            },
            "error_y": {
             "color": "#2a3f5f"
            },
            "marker": {
             "line": {
              "color": "#E5ECF6",
              "width": 0.5
             },
             "pattern": {
              "fillmode": "overlay",
              "size": 10,
              "solidity": 0.2
             }
            },
            "type": "bar"
           }
          ],
          "barpolar": [
           {
            "marker": {
             "line": {
              "color": "#E5ECF6",
              "width": 0.5
             },
             "pattern": {
              "fillmode": "overlay",
              "size": 10,
              "solidity": 0.2
             }
            },
            "type": "barpolar"
           }
          ],
          "carpet": [
           {
            "aaxis": {
             "endlinecolor": "#2a3f5f",
             "gridcolor": "white",
             "linecolor": "white",
             "minorgridcolor": "white",
             "startlinecolor": "#2a3f5f"
            },
            "baxis": {
             "endlinecolor": "#2a3f5f",
             "gridcolor": "white",
             "linecolor": "white",
             "minorgridcolor": "white",
             "startlinecolor": "#2a3f5f"
            },
            "type": "carpet"
           }
          ],
          "choropleth": [
           {
            "colorbar": {
             "outlinewidth": 0,
             "ticks": ""
            },
            "type": "choropleth"
           }
          ],
          "contour": [
           {
            "colorbar": {
             "outlinewidth": 0,
             "ticks": ""
            },
            "colorscale": [
             [
              0,
              "#0d0887"
             ],
             [
              0.1111111111111111,
              "#46039f"
             ],
             [
              0.2222222222222222,
              "#7201a8"
             ],
             [
              0.3333333333333333,
              "#9c179e"
             ],
             [
              0.4444444444444444,
              "#bd3786"
             ],
             [
              0.5555555555555556,
              "#d8576b"
             ],
             [
              0.6666666666666666,
              "#ed7953"
             ],
             [
              0.7777777777777778,
              "#fb9f3a"
             ],
             [
              0.8888888888888888,
              "#fdca26"
             ],
             [
              1,
              "#f0f921"
             ]
            ],
            "type": "contour"
           }
          ],
          "contourcarpet": [
           {
            "colorbar": {
             "outlinewidth": 0,
             "ticks": ""
            },
            "type": "contourcarpet"
           }
          ],
          "heatmap": [
           {
            "colorbar": {
             "outlinewidth": 0,
             "ticks": ""
            },
            "colorscale": [
             [
              0,
              "#0d0887"
             ],
             [
              0.1111111111111111,
              "#46039f"
             ],
             [
              0.2222222222222222,
              "#7201a8"
             ],
             [
              0.3333333333333333,
              "#9c179e"
             ],
             [
              0.4444444444444444,
              "#bd3786"
             ],
             [
              0.5555555555555556,
              "#d8576b"
             ],
             [
              0.6666666666666666,
              "#ed7953"
             ],
             [
              0.7777777777777778,
              "#fb9f3a"
             ],
             [
              0.8888888888888888,
              "#fdca26"
             ],
             [
              1,
              "#f0f921"
             ]
            ],
            "type": "heatmap"
           }
          ],
          "heatmapgl": [
           {
            "colorbar": {
             "outlinewidth": 0,
             "ticks": ""
            },
            "colorscale": [
             [
              0,
              "#0d0887"
             ],
             [
              0.1111111111111111,
              "#46039f"
             ],
             [
              0.2222222222222222,
              "#7201a8"
             ],
             [
              0.3333333333333333,
              "#9c179e"
             ],
             [
              0.4444444444444444,
              "#bd3786"
             ],
             [
              0.5555555555555556,
              "#d8576b"
             ],
             [
              0.6666666666666666,
              "#ed7953"
             ],
             [
              0.7777777777777778,
              "#fb9f3a"
             ],
             [
              0.8888888888888888,
              "#fdca26"
             ],
             [
              1,
              "#f0f921"
             ]
            ],
            "type": "heatmapgl"
           }
          ],
          "histogram": [
           {
            "marker": {
             "pattern": {
              "fillmode": "overlay",
              "size": 10,
              "solidity": 0.2
             }
            },
            "type": "histogram"
           }
          ],
          "histogram2d": [
           {
            "colorbar": {
             "outlinewidth": 0,
             "ticks": ""
            },
            "colorscale": [
             [
              0,
              "#0d0887"
             ],
             [
              0.1111111111111111,
              "#46039f"
             ],
             [
              0.2222222222222222,
              "#7201a8"
             ],
             [
              0.3333333333333333,
              "#9c179e"
             ],
             [
              0.4444444444444444,
              "#bd3786"
             ],
             [
              0.5555555555555556,
              "#d8576b"
             ],
             [
              0.6666666666666666,
              "#ed7953"
             ],
             [
              0.7777777777777778,
              "#fb9f3a"
             ],
             [
              0.8888888888888888,
              "#fdca26"
             ],
             [
              1,
              "#f0f921"
             ]
            ],
            "type": "histogram2d"
           }
          ],
          "histogram2dcontour": [
           {
            "colorbar": {
             "outlinewidth": 0,
             "ticks": ""
            },
            "colorscale": [
             [
              0,
              "#0d0887"
             ],
             [
              0.1111111111111111,
              "#46039f"
             ],
             [
              0.2222222222222222,
              "#7201a8"
             ],
             [
              0.3333333333333333,
              "#9c179e"
             ],
             [
              0.4444444444444444,
              "#bd3786"
             ],
             [
              0.5555555555555556,
              "#d8576b"
             ],
             [
              0.6666666666666666,
              "#ed7953"
             ],
             [
              0.7777777777777778,
              "#fb9f3a"
             ],
             [
              0.8888888888888888,
              "#fdca26"
             ],
             [
              1,
              "#f0f921"
             ]
            ],
            "type": "histogram2dcontour"
           }
          ],
          "mesh3d": [
           {
            "colorbar": {
             "outlinewidth": 0,
             "ticks": ""
            },
            "type": "mesh3d"
           }
          ],
          "parcoords": [
           {
            "line": {
             "colorbar": {
              "outlinewidth": 0,
              "ticks": ""
             }
            },
            "type": "parcoords"
           }
          ],
          "pie": [
           {
            "automargin": true,
            "type": "pie"
           }
          ],
          "scatter": [
           {
            "fillpattern": {
             "fillmode": "overlay",
             "size": 10,
             "solidity": 0.2
            },
            "type": "scatter"
           }
          ],
          "scatter3d": [
           {
            "line": {
             "colorbar": {
              "outlinewidth": 0,
              "ticks": ""
             }
            },
            "marker": {
             "colorbar": {
              "outlinewidth": 0,
              "ticks": ""
             }
            },
            "type": "scatter3d"
           }
          ],
          "scattercarpet": [
           {
            "marker": {
             "colorbar": {
              "outlinewidth": 0,
              "ticks": ""
             }
            },
            "type": "scattercarpet"
           }
          ],
          "scattergeo": [
           {
            "marker": {
             "colorbar": {
              "outlinewidth": 0,
              "ticks": ""
             }
            },
            "type": "scattergeo"
           }
          ],
          "scattergl": [
           {
            "marker": {
             "colorbar": {
              "outlinewidth": 0,
              "ticks": ""
             }
            },
            "type": "scattergl"
           }
          ],
          "scattermapbox": [
           {
            "marker": {
             "colorbar": {
              "outlinewidth": 0,
              "ticks": ""
             }
            },
            "type": "scattermapbox"
           }
          ],
          "scatterpolar": [
           {
            "marker": {
             "colorbar": {
              "outlinewidth": 0,
              "ticks": ""
             }
            },
            "type": "scatterpolar"
           }
          ],
          "scatterpolargl": [
           {
            "marker": {
             "colorbar": {
              "outlinewidth": 0,
              "ticks": ""
             }
            },
            "type": "scatterpolargl"
           }
          ],
          "scatterternary": [
           {
            "marker": {
             "colorbar": {
              "outlinewidth": 0,
              "ticks": ""
             }
            },
            "type": "scatterternary"
           }
          ],
          "surface": [
           {
            "colorbar": {
             "outlinewidth": 0,
             "ticks": ""
            },
            "colorscale": [
             [
              0,
              "#0d0887"
             ],
             [
              0.1111111111111111,
              "#46039f"
             ],
             [
              0.2222222222222222,
              "#7201a8"
             ],
             [
              0.3333333333333333,
              "#9c179e"
             ],
             [
              0.4444444444444444,
              "#bd3786"
             ],
             [
              0.5555555555555556,
              "#d8576b"
             ],
             [
              0.6666666666666666,
              "#ed7953"
             ],
             [
              0.7777777777777778,
              "#fb9f3a"
             ],
             [
              0.8888888888888888,
              "#fdca26"
             ],
             [
              1,
              "#f0f921"
             ]
            ],
            "type": "surface"
           }
          ],
          "table": [
           {
            "cells": {
             "fill": {
              "color": "#EBF0F8"
             },
             "line": {
              "color": "white"
             }
            },
            "header": {
             "fill": {
              "color": "#C8D4E3"
             },
             "line": {
              "color": "white"
             }
            },
            "type": "table"
           }
          ]
         },
         "layout": {
          "annotationdefaults": {
           "arrowcolor": "#2a3f5f",
           "arrowhead": 0,
           "arrowwidth": 1
          },
          "autotypenumbers": "strict",
          "coloraxis": {
           "colorbar": {
            "outlinewidth": 0,
            "ticks": ""
           }
          },
          "colorscale": {
           "diverging": [
            [
             0,
             "#8e0152"
            ],
            [
             0.1,
             "#c51b7d"
            ],
            [
             0.2,
             "#de77ae"
            ],
            [
             0.3,
             "#f1b6da"
            ],
            [
             0.4,
             "#fde0ef"
            ],
            [
             0.5,
             "#f7f7f7"
            ],
            [
             0.6,
             "#e6f5d0"
            ],
            [
             0.7,
             "#b8e186"
            ],
            [
             0.8,
             "#7fbc41"
            ],
            [
             0.9,
             "#4d9221"
            ],
            [
             1,
             "#276419"
            ]
           ],
           "sequential": [
            [
             0,
             "#0d0887"
            ],
            [
             0.1111111111111111,
             "#46039f"
            ],
            [
             0.2222222222222222,
             "#7201a8"
            ],
            [
             0.3333333333333333,
             "#9c179e"
            ],
            [
             0.4444444444444444,
             "#bd3786"
            ],
            [
             0.5555555555555556,
             "#d8576b"
            ],
            [
             0.6666666666666666,
             "#ed7953"
            ],
            [
             0.7777777777777778,
             "#fb9f3a"
            ],
            [
             0.8888888888888888,
             "#fdca26"
            ],
            [
             1,
             "#f0f921"
            ]
           ],
           "sequentialminus": [
            [
             0,
             "#0d0887"
            ],
            [
             0.1111111111111111,
             "#46039f"
            ],
            [
             0.2222222222222222,
             "#7201a8"
            ],
            [
             0.3333333333333333,
             "#9c179e"
            ],
            [
             0.4444444444444444,
             "#bd3786"
            ],
            [
             0.5555555555555556,
             "#d8576b"
            ],
            [
             0.6666666666666666,
             "#ed7953"
            ],
            [
             0.7777777777777778,
             "#fb9f3a"
            ],
            [
             0.8888888888888888,
             "#fdca26"
            ],
            [
             1,
             "#f0f921"
            ]
           ]
          },
          "colorway": [
           "#636efa",
           "#EF553B",
           "#00cc96",
           "#ab63fa",
           "#FFA15A",
           "#19d3f3",
           "#FF6692",
           "#B6E880",
           "#FF97FF",
           "#FECB52"
          ],
          "font": {
           "color": "#2a3f5f"
          },
          "geo": {
           "bgcolor": "white",
           "lakecolor": "white",
           "landcolor": "#E5ECF6",
           "showlakes": true,
           "showland": true,
           "subunitcolor": "white"
          },
          "hoverlabel": {
           "align": "left"
          },
          "hovermode": "closest",
          "mapbox": {
           "style": "light"
          },
          "paper_bgcolor": "white",
          "plot_bgcolor": "#E5ECF6",
          "polar": {
           "angularaxis": {
            "gridcolor": "white",
            "linecolor": "white",
            "ticks": ""
           },
           "bgcolor": "#E5ECF6",
           "radialaxis": {
            "gridcolor": "white",
            "linecolor": "white",
            "ticks": ""
           }
          },
          "scene": {
           "xaxis": {
            "backgroundcolor": "#E5ECF6",
            "gridcolor": "white",
            "gridwidth": 2,
            "linecolor": "white",
            "showbackground": true,
            "ticks": "",
            "zerolinecolor": "white"
           },
           "yaxis": {
            "backgroundcolor": "#E5ECF6",
            "gridcolor": "white",
            "gridwidth": 2,
            "linecolor": "white",
            "showbackground": true,
            "ticks": "",
            "zerolinecolor": "white"
           },
           "zaxis": {
            "backgroundcolor": "#E5ECF6",
            "gridcolor": "white",
            "gridwidth": 2,
            "linecolor": "white",
            "showbackground": true,
            "ticks": "",
            "zerolinecolor": "white"
           }
          },
          "shapedefaults": {
           "line": {
            "color": "#2a3f5f"
           }
          },
          "ternary": {
           "aaxis": {
            "gridcolor": "white",
            "linecolor": "white",
            "ticks": ""
           },
           "baxis": {
            "gridcolor": "white",
            "linecolor": "white",
            "ticks": ""
           },
           "bgcolor": "#E5ECF6",
           "caxis": {
            "gridcolor": "white",
            "linecolor": "white",
            "ticks": ""
           }
          },
          "title": {
           "x": 0.05
          },
          "xaxis": {
           "automargin": true,
           "gridcolor": "white",
           "linecolor": "white",
           "ticks": "",
           "title": {
            "standoff": 15
           },
           "zerolinecolor": "white",
           "zerolinewidth": 2
          },
          "yaxis": {
           "automargin": true,
           "gridcolor": "white",
           "linecolor": "white",
           "ticks": "",
           "title": {
            "standoff": 15
           },
           "zerolinecolor": "white",
           "zerolinewidth": 2
          }
         }
        },
        "title": {
         "text": "Emotions Graph"
        },
        "xaxis": {
         "showgrid": false,
         "showticklabels": false,
         "zeroline": false
        },
        "yaxis": {
         "showgrid": false,
         "showticklabels": false,
         "zeroline": false
        }
       }
      }
     },
     "metadata": {},
     "output_type": "display_data"
    }
   ],
   "source": [
    "import textwrap\n",
    "\n",
    "fig = go.Figure()\n",
    "\n",
    "node_positions = {}\n",
    "\n",
    "for node, position in pos.items():\n",
    "    x, y = position  \n",
    "\n",
    "    color = G.nodes[node]['color']  \n",
    "    hover = G.nodes[node]['hover']\n",
    "    hover = '<br>'.join(textwrap.wrap(hover,width=50))\n",
    "    try:\n",
    "        emotion = G.nodes[node]['emotion']\n",
    "    except KeyError:\n",
    "        try:\n",
    "            gender = G.nodes[node]['gender']\n",
    "        except KeyError:\n",
    "            continue\n",
    "    node_type = G.nodes[node]['type']\n",
    "\n",
    "    if node_type == 'utterance':\n",
    "        fig.add_trace(go.Scatter(x=[x], y=[y], marker=dict(size=10,color=color), hovertext=hover, name=emotion, hovertemplate=hover))\n",
    "    else:\n",
    "        fig.add_trace(go.Scatter(x=[x], y=[y], marker=dict(size=10,color=color), hovertext=hover, name=node_type, hovertemplate=hover))\n",
    "\n",
    "\n",
    "for edge in G.edges():\n",
    "    color = G.edges[edge]['color']\n",
    "    x0, y0 = pos[edge[0]]\n",
    "    x1, y1 = pos[edge[1]]\n",
    "    fig.add_trace(go.Scatter(x=[x0, x1], y=[y0, y1], mode='lines', line=dict(width=1,color=color), name='Edge'))\n",
    "\n",
    "fig.update_layout(showlegend=False, title='Emotions Graph')\n",
    "\n",
    "fig.update_layout(xaxis=dict(showgrid=False, zeroline=False, showticklabels=False),\n",
    "                  yaxis=dict(showgrid=False, zeroline=False, showticklabels=False))\n",
    "\n",
    "fig.show()"
   ]
  },
  {
   "cell_type": "code",
   "execution_count": 17,
   "metadata": {},
   "outputs": [],
   "source": [
    "from tensorflow.keras import layers, models\n",
    "\n",
    "# Define the Graph Convolutional Layer\n",
    "class GraphConvLayer(layers.Layer):\n",
    "    def __init__(self, output_dim, activation=None, **kwargs):\n",
    "        self.output_dim = output_dim\n",
    "        self.activation = activation\n",
    "        super(GraphConvLayer, self).__init__(**kwargs)\n",
    "\n",
    "    def build(self, input_shape):\n",
    "        # Create weights for the layer\n",
    "        self.kernel = self.add_weight(name='kernel',\n",
    "                                      shape=(input_shape[1], self.output_dim),\n",
    "                                      initializer='glorot_uniform',\n",
    "                                      trainable=True)\n",
    "        super(GraphConvLayer, self).build(input_shape)\n",
    "\n",
    "    def call(self, x, adjacency_matrix):\n",
    "        # Perform graph convolution\n",
    "        support = tf.matmul(adjacency_matrix, x)\n",
    "        output = tf.matmul(support, self.kernel)\n",
    "        if self.activation is not None:\n",
    "            output = self.activation(output)\n",
    "        return output\n",
    "\n",
    "# Create the GCN model\n",
    "class GCN(models.Model):\n",
    "    def __init__(self, hidden_units, num_classes):\n",
    "        super(GCN, self).__init__()\n",
    "        self.hidden_units = hidden_units\n",
    "        self.num_classes = num_classes\n",
    "\n",
    "        # Graph convolutional layers\n",
    "        self.gcn_layers = [GraphConvLayer(units, activation='relu') for units in hidden_units]\n",
    "\n",
    "        # Output layer\n",
    "        self.output_layer = GraphConvLayer(num_classes)\n",
    "\n",
    "    def call(self, inputs, adjacency_matrix):\n",
    "        x = inputs\n",
    "        for layer in self.gcn_layers:\n",
    "            x = layer(x, adjacency_matrix)\n",
    "\n",
    "        # Output layer\n",
    "        output = self.output_layer(x, adjacency_matrix)\n",
    "        return output\n"
   ]
  },
  {
   "cell_type": "code",
   "execution_count": 26,
   "metadata": {},
   "outputs": [
    {
     "data": {
      "text/plain": [
       "<tf.Tensor: shape=(1000,), dtype=float32, numpy=\n",
       "array([1.69251696e-04, 3.20854364e-04, 6.02129694e-05, 1.07175212e-04,\n",
       "       5.20066678e-05, 5.11162682e-04, 9.15351848e-06, 3.51809322e-05,\n",
       "       1.70811873e-05, 1.41600860e-04, 7.32104818e-04, 1.40703531e-04,\n",
       "       5.85418020e-05, 8.10772763e-05, 1.65304737e-05, 4.90692983e-05,\n",
       "       1.24995146e-04, 2.90053576e-05, 5.70635129e-05, 4.95783970e-05,\n",
       "       1.94436216e-04, 1.61237956e-03, 9.71846050e-04, 2.23138006e-04,\n",
       "       8.71846496e-05, 1.12381982e-04, 3.18417879e-04, 2.31957456e-04,\n",
       "       1.73175940e-04, 1.90038743e-04, 4.20648830e-05, 3.30791459e-04,\n",
       "       8.80999505e-05, 1.12275709e-04, 2.77832325e-04, 1.61080479e-05,\n",
       "       1.23764621e-04, 1.08471859e-05, 5.87009359e-03, 3.75366508e-05,\n",
       "       4.73528598e-05, 1.98641617e-04, 2.37981629e-04, 1.63575416e-04,\n",
       "       5.45674266e-05, 1.23726510e-04, 3.95414427e-05, 2.28768142e-04,\n",
       "       3.63352374e-05, 3.61019484e-05, 1.68537590e-04, 4.19115793e-04,\n",
       "       2.91162578e-04, 5.19036606e-04, 2.46450451e-04, 2.42377482e-05,\n",
       "       5.99179366e-05, 1.43472225e-05, 1.36191025e-04, 3.01225693e-03,\n",
       "       4.63763194e-04, 3.85139792e-05, 3.03608918e-04, 4.02385689e-04,\n",
       "       6.94298011e-04, 1.73129054e-04, 4.99658403e-04, 6.69322399e-05,\n",
       "       2.21610666e-04, 4.24003811e-05, 7.35050489e-05, 7.32539571e-04,\n",
       "       6.08022456e-05, 1.96356489e-03, 1.10632263e-05, 3.28968687e-04,\n",
       "       2.74788799e-05, 5.53673308e-04, 1.77600840e-03, 1.27203821e-03,\n",
       "       5.94187470e-04, 2.72431149e-04, 1.25043502e-04, 3.17657628e-04,\n",
       "       3.56756645e-05, 1.50185051e-05, 2.37629414e-04, 2.52820872e-04,\n",
       "       8.93673714e-05, 1.09730448e-04, 5.64065849e-05, 2.26953009e-04,\n",
       "       4.93172673e-04, 1.35344759e-04, 1.60356198e-04, 4.65798366e-05,\n",
       "       1.61519507e-04, 3.52986899e-05, 1.00036955e-03, 1.90361243e-04,\n",
       "       3.23131913e-04, 6.63205137e-05, 4.89263803e-05, 2.34327954e-03,\n",
       "       1.97720336e-04, 9.68022050e-06, 5.86708229e-05, 8.07223332e-05,\n",
       "       3.52816605e-05, 5.38028326e-05, 2.86567170e-04, 1.44587576e-01,\n",
       "       2.58645479e-04, 4.54603694e-04, 9.91730558e-05, 7.61420670e-05,\n",
       "       1.98576832e-04, 3.69434769e-04, 2.35811895e-05, 7.92139981e-05,\n",
       "       1.62234734e-04, 2.10408562e-05, 1.56022521e-04, 2.76058527e-05,\n",
       "       2.10265134e-05, 1.66614511e-04, 2.58271070e-03, 1.63064688e-04,\n",
       "       3.34169529e-03, 4.51807951e-04, 1.55051850e-04, 5.75547965e-05,\n",
       "       5.41203772e-04, 7.30566171e-05, 4.07369480e-05, 1.32512694e-04,\n",
       "       2.39495814e-04, 2.41725720e-04, 1.01802070e-04, 1.45449929e-04,\n",
       "       4.34491812e-04, 4.05367638e-04, 2.19594789e-04, 2.82221677e-04,\n",
       "       1.84402772e-04, 5.61378838e-04, 5.25308365e-04, 5.29059675e-04,\n",
       "       6.77713542e-04, 4.26459505e-04, 2.05119242e-04, 2.07600475e-04,\n",
       "       3.91654146e-04, 6.43203675e-04, 4.06569925e-05, 4.80574708e-05,\n",
       "       1.48858147e-04, 1.75845111e-04, 1.90396458e-04, 9.19786253e-05,\n",
       "       2.08947633e-04, 4.64638142e-05, 8.15152016e-05, 3.82136583e-04,\n",
       "       2.12191335e-05, 2.38094566e-04, 4.10719804e-04, 1.44282734e-04,\n",
       "       1.68328625e-04, 1.16970325e-04, 1.55014975e-04, 1.35699200e-04,\n",
       "       3.97750089e-04, 1.26352112e-04, 6.48479909e-05, 5.24742281e-05,\n",
       "       8.12837898e-05, 9.20103339e-05, 2.07177131e-04, 8.04286828e-05,\n",
       "       2.05273736e-05, 1.37431096e-04, 9.86035320e-06, 9.42597399e-05,\n",
       "       5.76114180e-05, 2.48192751e-04, 3.51266863e-05, 9.95921146e-05,\n",
       "       2.58437503e-04, 1.19544631e-04, 8.67694616e-04, 1.12290327e-04,\n",
       "       3.67869575e-06, 7.99314221e-05, 1.72867381e-04, 3.07137700e-04,\n",
       "       6.04491252e-05, 1.07619198e-05, 4.02610021e-05, 7.84310614e-05,\n",
       "       8.62610905e-05, 1.44982196e-05, 5.08242010e-05, 1.43034238e-04,\n",
       "       1.25701888e-04, 4.37207054e-05, 1.61864315e-04, 1.27075356e-04,\n",
       "       4.75286251e-05, 5.91041789e-05, 5.70831326e-05, 7.23987250e-05,\n",
       "       9.91227498e-05, 6.09921262e-05, 6.21772051e-05, 8.50479410e-05,\n",
       "       4.51443164e-04, 5.14547937e-05, 2.07649864e-05, 4.14518072e-05,\n",
       "       1.89762461e-04, 1.95534274e-04, 2.52298341e-04, 1.89900777e-04,\n",
       "       1.37373892e-04, 1.08104367e-04, 2.01726561e-05, 2.09295264e-04,\n",
       "       9.63747079e-05, 1.28750515e-04, 1.54785539e-05, 2.17369816e-05,\n",
       "       1.72427113e-04, 1.93484055e-04, 2.75344919e-05, 4.77674148e-05,\n",
       "       1.30160144e-04, 1.69586245e-04, 5.51687517e-05, 1.43545651e-04,\n",
       "       8.39097338e-05, 5.06281322e-05, 3.84612686e-05, 9.82060519e-05,\n",
       "       3.19520259e-05, 6.20714200e-05, 1.37485491e-04, 6.93942857e-05,\n",
       "       9.65586514e-05, 6.85696286e-05, 2.41218760e-04, 2.58989196e-04,\n",
       "       1.08293614e-04, 1.67944279e-04, 1.33736947e-04, 1.57841423e-05,\n",
       "       3.29755829e-04, 1.09903311e-04, 2.51186051e-04, 1.89748243e-04,\n",
       "       8.80731532e-05, 6.75197589e-05, 4.48407838e-04, 5.27438024e-05,\n",
       "       1.82577889e-04, 8.99495353e-05, 1.13509508e-04, 4.14322021e-05,\n",
       "       1.36097267e-04, 4.27875348e-05, 1.27696374e-04, 5.57758322e-05,\n",
       "       1.43906553e-04, 1.00449986e-04, 1.29044987e-04, 2.73698708e-04,\n",
       "       2.56764266e-04, 5.76516788e-04, 9.58489036e-05, 2.99244013e-04,\n",
       "       1.35307972e-04, 6.98389413e-05, 2.36306834e-04, 4.59127768e-04,\n",
       "       2.43712930e-04, 3.97186232e-04, 9.30400711e-05, 3.32826603e-05,\n",
       "       6.31859366e-05, 1.04098734e-04, 6.40251383e-05, 1.13924063e-04,\n",
       "       9.71734262e-05, 2.46360549e-04, 2.17673951e-04, 8.58853891e-05,\n",
       "       1.38712232e-04, 4.28414933e-04, 9.30786337e-05, 7.40512856e-04,\n",
       "       8.75987826e-05, 3.34935001e-04, 1.41460812e-04, 4.92437393e-04,\n",
       "       4.92032705e-05, 1.56378173e-05, 8.06693104e-04, 2.86407769e-04,\n",
       "       3.18350474e-04, 2.08663478e-05, 4.03251557e-04, 7.53160857e-05,\n",
       "       7.36059854e-04, 1.07129017e-04, 1.00694760e-03, 1.67374164e-04,\n",
       "       1.01744663e-04, 9.61552942e-05, 3.62508377e-04, 4.19125980e-04,\n",
       "       7.48631079e-04, 8.54983864e-06, 2.44294788e-05, 6.54791947e-05,\n",
       "       3.83355546e-05, 3.25880646e-05, 2.46198382e-04, 5.54401922e-05,\n",
       "       1.05101099e-04, 1.56260703e-05, 1.05175393e-04, 2.41000307e-04,\n",
       "       1.45683996e-04, 1.14048034e-05, 3.84250452e-05, 9.07371868e-05,\n",
       "       1.66271653e-04, 1.45109589e-04, 4.38138668e-05, 5.83474430e-05,\n",
       "       5.71634337e-05, 6.10752395e-05, 2.54049646e-05, 1.24139997e-05,\n",
       "       2.98651168e-04, 1.76222005e-04, 4.24867612e-05, 4.21178702e-05,\n",
       "       7.08114385e-05, 5.31661462e-05, 2.77415296e-04, 5.20832022e-04,\n",
       "       9.34503332e-05, 2.41891539e-04, 4.09528438e-04, 6.69020228e-05,\n",
       "       9.73541697e-04, 4.46399441e-04, 4.21368954e-04, 3.76056443e-04,\n",
       "       3.50763905e-04, 2.04020485e-04, 1.48715553e-04, 4.88025362e-05,\n",
       "       4.57679380e-05, 1.42731529e-04, 3.77635406e-05, 5.37419051e-04,\n",
       "       3.68017099e-05, 1.13132941e-04, 8.79213476e-05, 9.05771565e-04,\n",
       "       6.43448438e-05, 2.29704587e-04, 3.44181812e-04, 6.63700557e-05,\n",
       "       1.66564001e-04, 4.21739824e-04, 1.09075801e-04, 2.96149756e-05,\n",
       "       1.75365567e-04, 2.84587240e-05, 7.99531117e-05, 7.56937225e-05,\n",
       "       3.26080219e-04, 1.84951656e-04, 3.76299140e-05, 1.19466327e-04,\n",
       "       6.74255498e-05, 4.03573184e-04, 4.01815269e-05, 2.64000100e-05,\n",
       "       1.09238934e-03, 1.73373737e-05, 3.24791945e-05, 1.95514032e-04,\n",
       "       2.36830565e-05, 9.48060188e-05, 1.30271845e-04, 1.31330481e-02,\n",
       "       1.47268572e-03, 3.05677793e-04, 4.78652102e-04, 2.18515474e-04,\n",
       "       4.19388467e-04, 2.88655329e-03, 2.08419260e-05, 5.69015720e-05,\n",
       "       1.07376240e-04, 6.08241360e-04, 1.20910245e-05, 1.31785840e-04,\n",
       "       3.17375583e-04, 5.01004327e-03, 3.48218338e-04, 7.89717251e-06,\n",
       "       2.68726400e-03, 9.88215674e-04, 1.79052260e-02, 3.64256877e-04,\n",
       "       2.77602812e-04, 2.93846242e-04, 1.65183330e-04, 1.95595247e-04,\n",
       "       3.42292442e-05, 6.38960992e-05, 2.90701049e-04, 5.26557735e-04,\n",
       "       9.07544090e-05, 1.02691213e-03, 1.00324287e-04, 5.44813665e-05,\n",
       "       1.90824568e-02, 1.14022856e-04, 1.29642256e-04, 1.76243761e-04,\n",
       "       9.87467211e-05, 1.17079355e-03, 1.62366463e-03, 1.76106172e-03,\n",
       "       5.66970091e-04, 2.56313127e-04, 7.26957398e-04, 1.19320524e-04,\n",
       "       2.23237090e-04, 1.87921818e-04, 2.71527655e-03, 4.53560264e-04,\n",
       "       3.39994265e-04, 2.88020412e-04, 1.72129239e-05, 4.21047304e-03,\n",
       "       5.35620602e-05, 7.16986324e-05, 1.05789477e-05, 3.07285343e-04,\n",
       "       1.75074989e-03, 1.13451073e-03, 2.76416522e-05, 4.41994052e-04,\n",
       "       2.76322426e-05, 7.08747772e-04, 2.50519672e-03, 3.01856751e-04,\n",
       "       1.68427709e-03, 3.30740353e-03, 2.36201042e-04, 1.81590713e-05,\n",
       "       4.33896530e-05, 3.71583994e-03, 4.49662143e-03, 2.51942489e-04,\n",
       "       6.91621244e-05, 1.09572811e-02, 7.91144557e-05, 1.97861606e-04,\n",
       "       3.89480920e-05, 7.93046347e-05, 1.88651131e-04, 1.90308056e-04,\n",
       "       1.50217224e-04, 6.25340675e-04, 1.05657506e-04, 2.35965981e-05,\n",
       "       2.16997098e-04, 6.77499629e-04, 1.67768507e-03, 1.79345603e-03,\n",
       "       1.62214786e-03, 1.32626355e-05, 2.36899694e-04, 7.72212865e-04,\n",
       "       3.65745160e-04, 2.51440826e-04, 2.01879954e-03, 8.77603816e-05,\n",
       "       4.50086409e-05, 9.01257736e-05, 5.08654157e-05, 2.73932833e-02,\n",
       "       7.40251562e-05, 4.27449262e-03, 2.85667164e-04, 4.37372318e-03,\n",
       "       1.53248513e-03, 5.64657093e-04, 2.06191675e-04, 3.02920607e-03,\n",
       "       2.65800452e-04, 1.42429863e-05, 1.23832154e-03, 7.65750592e-05,\n",
       "       1.22049069e-02, 1.31755299e-03, 2.54428858e-04, 3.92151385e-04,\n",
       "       1.73505818e-04, 7.72928644e-04, 9.38279336e-05, 1.27267514e-04,\n",
       "       1.10967710e-04, 4.76078800e-04, 2.73870915e-04, 1.83071592e-03,\n",
       "       4.85140452e-04, 2.67437772e-05, 1.58750670e-04, 4.68314305e-04,\n",
       "       4.84553675e-05, 2.35165891e-04, 3.06356046e-03, 4.46159067e-03,\n",
       "       1.54457826e-04, 8.84600377e-05, 1.22653488e-02, 1.80916308e-04,\n",
       "       2.91259075e-05, 7.27986626e-05, 5.35906991e-04, 1.99717775e-04,\n",
       "       1.84363476e-03, 1.38041831e-03, 1.06625410e-03, 1.42698246e-03,\n",
       "       1.26859755e-04, 6.04100525e-04, 7.22436118e-04, 3.96388932e-05,\n",
       "       6.81068123e-05, 4.37532924e-03, 2.03470787e-04, 2.23016110e-03,\n",
       "       1.09375906e-04, 5.50897326e-04, 1.38789226e-04, 5.20347712e-05,\n",
       "       1.35127304e-03, 4.94650973e-04, 4.26739547e-03, 1.17776426e-03,\n",
       "       6.76032287e-05, 7.18230513e-05, 7.23649646e-05, 1.25759980e-03,\n",
       "       2.17558536e-05, 5.33468046e-05, 3.43821594e-04, 1.09296273e-02,\n",
       "       1.86441714e-04, 2.31937767e-04, 6.79575198e-04, 2.18424611e-05,\n",
       "       6.42234634e-04, 1.16326657e-04, 4.92324959e-03, 7.43680139e-05,\n",
       "       2.90421856e-04, 8.65357229e-04, 4.40781121e-04, 4.42281656e-04,\n",
       "       2.20095972e-05, 3.39690232e-05, 2.16337630e-05, 8.19859467e-03,\n",
       "       2.06642374e-02, 8.78699403e-03, 2.28570680e-05, 7.77771231e-04,\n",
       "       3.35455086e-04, 5.24595205e-04, 1.26433282e-04, 2.38369932e-04,\n",
       "       4.67814127e-04, 2.97200587e-03, 1.73915018e-04, 5.79634034e-05,\n",
       "       2.62247818e-03, 1.31003108e-04, 2.36744774e-04, 2.69534939e-04,\n",
       "       3.71156237e-03, 4.89570026e-04, 1.66366354e-03, 3.07561968e-05,\n",
       "       8.15574918e-03, 1.64906227e-03, 4.77929803e-04, 4.10176668e-04,\n",
       "       3.74095340e-04, 5.60523440e-05, 1.30794512e-03, 2.52369442e-04,\n",
       "       6.65711632e-05, 3.16926348e-03, 2.28924197e-04, 1.25478744e-03,\n",
       "       1.91083248e-03, 1.65134174e-04, 6.80007041e-03, 2.61858222e-03,\n",
       "       7.21523393e-05, 1.27375155e-04, 1.27875584e-03, 9.12048668e-03,\n",
       "       8.27222721e-06, 1.45205107e-04, 8.33521225e-03, 6.87731779e-04,\n",
       "       8.37008178e-04, 4.74469177e-03, 6.45355729e-04, 5.94277051e-04,\n",
       "       7.39109190e-03, 2.59931199e-03, 1.54026893e-05, 7.77472334e-04,\n",
       "       2.97756458e-04, 6.61482627e-05, 1.52583016e-04, 1.95172452e-05,\n",
       "       1.91462386e-04, 5.07683260e-03, 3.80429032e-04, 3.21898086e-04,\n",
       "       2.21671443e-02, 9.66551161e-05, 2.22900868e-04, 2.32020393e-04,\n",
       "       2.47666554e-04, 9.16315621e-05, 6.06044894e-03, 4.13924514e-04,\n",
       "       1.66092010e-04, 3.48591898e-03, 1.91803047e-04, 4.92465770e-05,\n",
       "       2.56767435e-05, 1.05954160e-03, 3.55659758e-05, 1.34545568e-04,\n",
       "       1.58688694e-04, 2.21130049e-05, 1.39715255e-03, 1.75027468e-04,\n",
       "       2.33931048e-03, 6.81505408e-05, 6.59524521e-04, 3.53414216e-04,\n",
       "       1.10465429e-04, 1.76692938e-05, 1.36984047e-04, 2.42878214e-05,\n",
       "       3.31217132e-04, 6.67817367e-04, 2.92885280e-03, 1.16244984e-04,\n",
       "       2.16696004e-04, 2.13117544e-02, 1.80868618e-03, 3.54616437e-04,\n",
       "       1.10117602e-03, 7.37604685e-04, 2.31517231e-04, 2.57762223e-02,\n",
       "       1.95408636e-03, 3.24059743e-04, 1.16770323e-02, 5.53604659e-05,\n",
       "       2.02503754e-04, 4.11799527e-04, 2.00785889e-05, 3.96714953e-04,\n",
       "       2.03411723e-03, 8.65643611e-04, 6.58511126e-05, 3.46539367e-04,\n",
       "       4.25123051e-03, 2.35457719e-05, 5.95467500e-05, 3.79904173e-03,\n",
       "       1.87920494e-04, 1.13638083e-03, 5.98723826e-04, 2.07070058e-04,\n",
       "       1.11426838e-04, 1.88844260e-05, 1.57786344e-05, 8.81260421e-05,\n",
       "       4.29754797e-03, 6.46640183e-05, 7.16064184e-04, 8.62724439e-04,\n",
       "       2.84790440e-04, 2.76163977e-04, 2.51569971e-03, 2.58750311e-04,\n",
       "       2.64271890e-04, 4.96675057e-05, 1.07837775e-04, 4.31843422e-04,\n",
       "       2.36699148e-03, 1.85608606e-05, 1.58933830e-03, 6.90806133e-04,\n",
       "       2.91139382e-04, 3.16529360e-04, 6.05131267e-04, 1.44074773e-04,\n",
       "       9.05416164e-05, 1.12155965e-03, 7.29221720e-05, 4.06873878e-03,\n",
       "       1.10346504e-04, 7.38193048e-04, 1.30569915e-05, 4.40379408e-05,\n",
       "       7.92446837e-04, 3.16235470e-04, 1.52285065e-04, 3.40181548e-04,\n",
       "       1.16886420e-03, 1.93876840e-04, 1.63571822e-04, 2.51103542e-04,\n",
       "       3.40581662e-03, 2.32768175e-03, 3.21320229e-04, 6.52197190e-03,\n",
       "       1.74084518e-04, 2.26721633e-03, 1.81763797e-04, 1.86796766e-04,\n",
       "       3.56441771e-04, 8.36201943e-04, 1.76640216e-03, 3.59631551e-04,\n",
       "       3.03479959e-04, 2.02139054e-05, 8.15024134e-04, 4.89235390e-04,\n",
       "       1.78433559e-03, 1.90732779e-03, 1.94501863e-05, 5.82693936e-03,\n",
       "       2.18043150e-03, 3.97513097e-04, 4.18198295e-04, 1.72333408e-03,\n",
       "       1.28953587e-04, 3.89372953e-03, 1.55015994e-04, 3.79840494e-04,\n",
       "       3.77387088e-03, 4.22641897e-04, 1.26811196e-04, 7.77255482e-05,\n",
       "       1.78890012e-03, 2.26811692e-03, 5.41667454e-04, 4.81868447e-05,\n",
       "       4.78100992e-04, 4.28842759e-04, 6.85280247e-04, 9.06116143e-03,\n",
       "       1.01506226e-02, 6.70638910e-05, 5.90091076e-05, 5.74963160e-05,\n",
       "       8.94728601e-06, 9.71818634e-04, 1.99495917e-04, 1.16416668e-04,\n",
       "       4.05804894e-04, 1.43408339e-04, 8.61346198e-05, 8.26599833e-04,\n",
       "       8.87540635e-04, 1.44822858e-04, 2.81815161e-03, 8.44101232e-05,\n",
       "       4.23770143e-05, 1.83544384e-04, 9.81488483e-05, 1.07060594e-04,\n",
       "       6.97441818e-03, 1.58583469e-04, 7.69419130e-04, 6.34779921e-04,\n",
       "       4.67964303e-04, 5.40550463e-05, 1.75220877e-04, 1.14432687e-03,\n",
       "       9.26984288e-03, 2.29435619e-02, 1.06023916e-03, 3.47306959e-05,\n",
       "       4.93975167e-05, 6.22379303e-05, 6.76658330e-03, 2.75795523e-04,\n",
       "       2.18266159e-05, 2.63550173e-04, 2.82545632e-04, 2.72432313e-04,\n",
       "       3.06544098e-05, 3.47790519e-05, 4.68718214e-03, 4.39315452e-04,\n",
       "       2.17265170e-03, 5.21352595e-05, 2.91853532e-04, 6.15446945e-04,\n",
       "       1.44533580e-04, 5.39820758e-04, 2.22157547e-03, 3.25872570e-05,\n",
       "       8.60485365e-04, 5.08324883e-04, 5.74739766e-04, 6.28360503e-05,\n",
       "       5.36481501e-04, 1.34081245e-04, 1.33605135e-04, 1.12854541e-04,\n",
       "       5.67060895e-04, 6.45101303e-04, 1.06614856e-02, 2.89569634e-05,\n",
       "       5.63396257e-04, 2.97864695e-04, 6.82038881e-05, 1.36433018e-03,\n",
       "       3.19868280e-03, 1.26435816e-05, 3.89897637e-03, 5.02637541e-03,\n",
       "       1.63152741e-04, 3.32261639e-04, 2.86166411e-04, 1.13797828e-03,\n",
       "       3.07596143e-04, 2.31695478e-03, 1.05228426e-03, 3.16972961e-04,\n",
       "       5.04586533e-05, 9.74919567e-06, 8.18707413e-05, 2.74681515e-04,\n",
       "       6.55679542e-05, 3.68988287e-04, 7.54036882e-05, 1.79683368e-04,\n",
       "       1.40885741e-03, 1.54234964e-04, 5.92636843e-06, 3.56510957e-03,\n",
       "       1.49666826e-04, 3.51476483e-04, 4.28971180e-05, 2.53068982e-04,\n",
       "       3.65604094e-04, 1.38859992e-04, 1.76863061e-04, 4.25265217e-03,\n",
       "       8.28341799e-05, 6.39442587e-04, 1.61801567e-04, 1.43088677e-04,\n",
       "       8.13829538e-05, 7.23760517e-04, 8.78080973e-05, 9.21183309e-05,\n",
       "       5.96543192e-04, 2.31989310e-03, 1.35711758e-04, 6.54294097e-04,\n",
       "       4.79568233e-04, 6.38937810e-04, 3.27150128e-03, 4.90699778e-04,\n",
       "       2.25732772e-04, 4.57456568e-03, 3.95294093e-03, 2.85637332e-04,\n",
       "       8.28086340e-04, 4.68025886e-04, 1.25557696e-03, 9.89136868e-04,\n",
       "       1.09670400e-04, 6.17191399e-05, 3.33672651e-04, 1.86077566e-04,\n",
       "       3.11136064e-05, 3.21542320e-04, 3.10386851e-04, 7.31612090e-05,\n",
       "       1.09149481e-03, 8.34018938e-05, 2.29646859e-04, 6.57135970e-04,\n",
       "       4.69467312e-04, 3.69705813e-04, 9.08985821e-05, 1.22263591e-04,\n",
       "       3.38451136e-05, 2.44658033e-04, 1.07491556e-04, 7.00281817e-05,\n",
       "       1.78788869e-05, 1.05003064e-05, 1.87537706e-04, 9.70666879e-05,\n",
       "       5.09943238e-05, 3.02591870e-05, 5.38319291e-05, 4.53419707e-05,\n",
       "       7.39150710e-05, 5.77471437e-05, 1.13104616e-04, 2.48774759e-05,\n",
       "       2.35479412e-04, 4.14637434e-05, 1.65091507e-04, 1.24744241e-04,\n",
       "       7.02367979e-05, 2.34669540e-04, 1.72941916e-04, 2.38074008e-05,\n",
       "       7.10015243e-04, 5.50535449e-04, 6.56490505e-04, 3.70468886e-04,\n",
       "       1.91077779e-04, 8.50635988e-05, 1.87448575e-04, 9.17872876e-06,\n",
       "       3.68410227e-04, 9.54085044e-05, 5.32659469e-05, 8.63446330e-05,\n",
       "       1.06443898e-04, 4.22502271e-05, 7.66940357e-05, 1.34918828e-05,\n",
       "       3.68076071e-05, 1.57937582e-04, 5.53974358e-04, 3.28914088e-04,\n",
       "       1.15519250e-03, 8.36020568e-04, 2.54197483e-04, 1.54306399e-04,\n",
       "       3.94888775e-05, 1.23511172e-05, 3.76984506e-04, 6.31345829e-05,\n",
       "       1.58673793e-04, 3.00166808e-04, 5.58965199e-04, 3.45959197e-05,\n",
       "       2.68370844e-04, 1.34932532e-04, 2.37277745e-05, 1.40835429e-04,\n",
       "       8.63086898e-05, 4.70782543e-04, 3.58881589e-05, 2.31093582e-04,\n",
       "       2.11628401e-04, 1.17775751e-04, 2.86986731e-04, 3.56531527e-05,\n",
       "       1.23351438e-05, 9.54211937e-05, 1.30452681e-04, 5.27595766e-05,\n",
       "       1.08824926e-04, 1.45458880e-05, 1.43649188e-04, 6.50212634e-04],\n",
       "      dtype=float32)>"
      ]
     },
     "execution_count": 26,
     "metadata": {},
     "output_type": "execute_result"
    }
   ],
   "source": [
    "tf.constant(list(G.nodes[\"Toby don't.\"]['visual_embedding']))"
   ]
  },
  {
   "cell_type": "code",
   "execution_count": 31,
   "metadata": {},
   "outputs": [
    {
     "ename": "TypeError",
     "evalue": "'int' object is not subscriptable",
     "output_type": "error",
     "traceback": [
      "\u001b[1;31m---------------------------------------------------------------------------\u001b[0m",
      "\u001b[1;31mTypeError\u001b[0m                                 Traceback (most recent call last)",
      "\u001b[1;32mf:\\Data Science\\TVEmotion\\t.ipynb Cell 20\u001b[0m line \u001b[0;36m1\n\u001b[1;32m----> <a href='vscode-notebook-cell:/f%3A/Data%20Science/TVEmotion/t.ipynb#X35sZmlsZQ%3D%3D?line=0'>1</a>\u001b[0m GCNConv(\u001b[39m16\u001b[39;49m, activation\u001b[39m=\u001b[39;49m\u001b[39m'\u001b[39;49m\u001b[39mrelu\u001b[39;49m\u001b[39m'\u001b[39;49m)(tf\u001b[39m.\u001b[39;49mconstant([\u001b[39mlist\u001b[39;49m(G\u001b[39m.\u001b[39;49mnodes[node][\u001b[39m'\u001b[39;49m\u001b[39mvisual_embedding\u001b[39;49m\u001b[39m'\u001b[39;49m]) \u001b[39mfor\u001b[39;49;00m node \u001b[39min\u001b[39;49;00m G\u001b[39m.\u001b[39;49mnodes]))\n",
      "File \u001b[1;32mc:\\Python311\\Lib\\site-packages\\keras\\src\\utils\\traceback_utils.py:70\u001b[0m, in \u001b[0;36mfilter_traceback.<locals>.error_handler\u001b[1;34m(*args, **kwargs)\u001b[0m\n\u001b[0;32m     67\u001b[0m     filtered_tb \u001b[39m=\u001b[39m _process_traceback_frames(e\u001b[39m.\u001b[39m__traceback__)\n\u001b[0;32m     68\u001b[0m     \u001b[39m# To get the full stack trace, call:\u001b[39;00m\n\u001b[0;32m     69\u001b[0m     \u001b[39m# `tf.debugging.disable_traceback_filtering()`\u001b[39;00m\n\u001b[1;32m---> 70\u001b[0m     \u001b[39mraise\u001b[39;00m e\u001b[39m.\u001b[39mwith_traceback(filtered_tb) \u001b[39mfrom\u001b[39;00m \u001b[39mNone\u001b[39;00m\n\u001b[0;32m     71\u001b[0m \u001b[39mfinally\u001b[39;00m:\n\u001b[0;32m     72\u001b[0m     \u001b[39mdel\u001b[39;00m filtered_tb\n",
      "File \u001b[1;32m~\\AppData\\Roaming\\Python\\Python311\\site-packages\\spektral\\layers\\convolutional\\gcn_conv.py:79\u001b[0m, in \u001b[0;36mGCNConv.build\u001b[1;34m(self, input_shape)\u001b[0m\n\u001b[0;32m     77\u001b[0m \u001b[39mdef\u001b[39;00m \u001b[39mbuild\u001b[39m(\u001b[39mself\u001b[39m, input_shape):\n\u001b[0;32m     78\u001b[0m     \u001b[39massert\u001b[39;00m \u001b[39mlen\u001b[39m(input_shape) \u001b[39m>\u001b[39m\u001b[39m=\u001b[39m \u001b[39m2\u001b[39m\n\u001b[1;32m---> 79\u001b[0m     input_dim \u001b[39m=\u001b[39m input_shape[\u001b[39m0\u001b[39;49m][\u001b[39m-\u001b[39;49m\u001b[39m1\u001b[39;49m]\n\u001b[0;32m     80\u001b[0m     \u001b[39mself\u001b[39m\u001b[39m.\u001b[39mkernel \u001b[39m=\u001b[39m \u001b[39mself\u001b[39m\u001b[39m.\u001b[39madd_weight(\n\u001b[0;32m     81\u001b[0m         shape\u001b[39m=\u001b[39m(input_dim, \u001b[39mself\u001b[39m\u001b[39m.\u001b[39mchannels),\n\u001b[0;32m     82\u001b[0m         initializer\u001b[39m=\u001b[39m\u001b[39mself\u001b[39m\u001b[39m.\u001b[39mkernel_initializer,\n\u001b[1;32m   (...)\u001b[0m\n\u001b[0;32m     85\u001b[0m         constraint\u001b[39m=\u001b[39m\u001b[39mself\u001b[39m\u001b[39m.\u001b[39mkernel_constraint,\n\u001b[0;32m     86\u001b[0m     )\n\u001b[0;32m     87\u001b[0m     \u001b[39mif\u001b[39;00m \u001b[39mself\u001b[39m\u001b[39m.\u001b[39muse_bias:\n",
      "\u001b[1;31mTypeError\u001b[0m: 'int' object is not subscriptable"
     ]
    }
   ],
   "source": [
    "GCNConv(16, activation='relu')(tf.constant([list(G.nodes[node]['visual_embedding']) for node in G.nodes]))"
   ]
  },
  {
   "cell_type": "code",
   "execution_count": null,
   "metadata": {},
   "outputs": [
    {
     "ename": "ValueError",
     "evalue": "x must have shape (n_nodes, n_node_features), got rank 0",
     "output_type": "error",
     "traceback": [
      "\u001b[1;31m---------------------------------------------------------------------------\u001b[0m",
      "\u001b[1;31mValueError\u001b[0m                                Traceback (most recent call last)",
      "\u001b[1;32mf:\\Data Science\\TVEmotion\\t.ipynb Cell 18\u001b[0m line \u001b[0;36m2\n\u001b[0;32m     <a href='vscode-notebook-cell:/f%3A/Data%20Science/TVEmotion/t.ipynb#X34sZmlsZQ%3D%3D?line=17'>18</a>\u001b[0m         graph \u001b[39m=\u001b[39m Graph(x\u001b[39m=\u001b[39mfeatures, a\u001b[39m=\u001b[39madjacency)\n\u001b[0;32m     <a href='vscode-notebook-cell:/f%3A/Data%20Science/TVEmotion/t.ipynb#X34sZmlsZQ%3D%3D?line=18'>19</a>\u001b[0m         \u001b[39mself\u001b[39m\u001b[39m.\u001b[39mgraphs\u001b[39m.\u001b[39mappend(graph)\n\u001b[1;32m---> <a href='vscode-notebook-cell:/f%3A/Data%20Science/TVEmotion/t.ipynb#X34sZmlsZQ%3D%3D?line=20'>21</a>\u001b[0m data \u001b[39m=\u001b[39m MyDataset()\n\u001b[0;32m     <a href='vscode-notebook-cell:/f%3A/Data%20Science/TVEmotion/t.ipynb#X34sZmlsZQ%3D%3D?line=21'>22</a>\u001b[0m data\u001b[39m.\u001b[39mread()\n\u001b[0;32m     <a href='vscode-notebook-cell:/f%3A/Data%20Science/TVEmotion/t.ipynb#X34sZmlsZQ%3D%3D?line=23'>24</a>\u001b[0m \u001b[39m# Build the model\u001b[39;00m\n",
      "\u001b[1;32mf:\\Data Science\\TVEmotion\\t.ipynb Cell 18\u001b[0m line \u001b[0;36m1\n\u001b[0;32m      <a href='vscode-notebook-cell:/f%3A/Data%20Science/TVEmotion/t.ipynb#X34sZmlsZQ%3D%3D?line=8'>9</a>\u001b[0m \u001b[39mdef\u001b[39;00m \u001b[39m__init__\u001b[39m(\u001b[39mself\u001b[39m):\n\u001b[1;32m---> <a href='vscode-notebook-cell:/f%3A/Data%20Science/TVEmotion/t.ipynb#X34sZmlsZQ%3D%3D?line=9'>10</a>\u001b[0m     \u001b[39msuper\u001b[39;49m()\u001b[39m.\u001b[39;49m\u001b[39m__init__\u001b[39;49m()\n",
      "File \u001b[1;32m~\\AppData\\Roaming\\Python\\Python311\\site-packages\\spektral\\data\\dataset.py:118\u001b[0m, in \u001b[0;36mDataset.__init__\u001b[1;34m(self, transforms, **kwargs)\u001b[0m\n\u001b[0;32m    115\u001b[0m     \u001b[39mself\u001b[39m\u001b[39m.\u001b[39mdownload()\n\u001b[0;32m    117\u001b[0m \u001b[39m# Read graphs\u001b[39;00m\n\u001b[1;32m--> 118\u001b[0m \u001b[39mself\u001b[39m\u001b[39m.\u001b[39mgraphs \u001b[39m=\u001b[39m \u001b[39mself\u001b[39;49m\u001b[39m.\u001b[39;49mread()\n\u001b[0;32m    119\u001b[0m \u001b[39mif\u001b[39;00m \u001b[39mself\u001b[39m\u001b[39m.\u001b[39ma \u001b[39mis\u001b[39;00m \u001b[39mNone\u001b[39;00m \u001b[39mand\u001b[39;00m \u001b[39mself\u001b[39m\u001b[39m.\u001b[39m\u001b[39m__len__\u001b[39m() \u001b[39m>\u001b[39m \u001b[39m0\u001b[39m \u001b[39mand\u001b[39;00m \u001b[39m\"\u001b[39m\u001b[39ma\u001b[39m\u001b[39m\"\u001b[39m \u001b[39mnot\u001b[39;00m \u001b[39min\u001b[39;00m \u001b[39mself\u001b[39m\u001b[39m.\u001b[39mgraphs[\u001b[39m0\u001b[39m]:\n\u001b[0;32m    120\u001b[0m     warnings\u001b[39m.\u001b[39mwarn(\n\u001b[0;32m    121\u001b[0m         \u001b[39m\"\u001b[39m\u001b[39mThe graphs in this dataset have no adjacency matrix. \u001b[39m\u001b[39m\"\u001b[39m\n\u001b[0;32m    122\u001b[0m         \u001b[39m\"\u001b[39m\u001b[39mIs this intentional?\u001b[39m\u001b[39m\"\u001b[39m\n\u001b[0;32m    123\u001b[0m     )\n",
      "\u001b[1;32mf:\\Data Science\\TVEmotion\\t.ipynb Cell 18\u001b[0m line \u001b[0;36m1\n\u001b[0;32m     <a href='vscode-notebook-cell:/f%3A/Data%20Science/TVEmotion/t.ipynb#X34sZmlsZQ%3D%3D?line=14'>15</a>\u001b[0m features \u001b[39m=\u001b[39m np\u001b[39m.\u001b[39marray({node: G\u001b[39m.\u001b[39mnodes[node][\u001b[39m'\u001b[39m\u001b[39mcolor\u001b[39m\u001b[39m'\u001b[39m] \u001b[39mfor\u001b[39;00m node \u001b[39min\u001b[39;00m G\u001b[39m.\u001b[39mnodes()})  \u001b[39m# Example node features\u001b[39;00m\n\u001b[0;32m     <a href='vscode-notebook-cell:/f%3A/Data%20Science/TVEmotion/t.ipynb#X34sZmlsZQ%3D%3D?line=16'>17</a>\u001b[0m \u001b[39m# Create a graph\u001b[39;00m\n\u001b[1;32m---> <a href='vscode-notebook-cell:/f%3A/Data%20Science/TVEmotion/t.ipynb#X34sZmlsZQ%3D%3D?line=17'>18</a>\u001b[0m graph \u001b[39m=\u001b[39m Graph(x\u001b[39m=\u001b[39;49mfeatures, a\u001b[39m=\u001b[39;49madjacency)\n\u001b[0;32m     <a href='vscode-notebook-cell:/f%3A/Data%20Science/TVEmotion/t.ipynb#X34sZmlsZQ%3D%3D?line=18'>19</a>\u001b[0m \u001b[39mself\u001b[39m\u001b[39m.\u001b[39mgraphs\u001b[39m.\u001b[39mappend(graph)\n",
      "File \u001b[1;32m~\\AppData\\Roaming\\Python\\Python311\\site-packages\\spektral\\data\\graph.py:69\u001b[0m, in \u001b[0;36mGraph.__init__\u001b[1;34m(self, x, a, e, y, **kwargs)\u001b[0m\n\u001b[0;32m     67\u001b[0m         warnings\u001b[39m.\u001b[39mwarn(\u001b[39mf\u001b[39m\u001b[39m\"\u001b[39m\u001b[39mx was automatically reshaped to \u001b[39m\u001b[39m{\u001b[39;00mx\u001b[39m.\u001b[39mshape\u001b[39m}\u001b[39;00m\u001b[39m\"\u001b[39m)\n\u001b[0;32m     68\u001b[0m     \u001b[39mif\u001b[39;00m \u001b[39mlen\u001b[39m(x\u001b[39m.\u001b[39mshape) \u001b[39m!=\u001b[39m \u001b[39m2\u001b[39m:\n\u001b[1;32m---> 69\u001b[0m         \u001b[39mraise\u001b[39;00m \u001b[39mValueError\u001b[39;00m(\n\u001b[0;32m     70\u001b[0m             \u001b[39mf\u001b[39m\u001b[39m\"\u001b[39m\u001b[39mx must have shape (n_nodes, n_node_features), got \u001b[39m\u001b[39m\"\u001b[39m\n\u001b[0;32m     71\u001b[0m             \u001b[39mf\u001b[39m\u001b[39m\"\u001b[39m\u001b[39mrank \u001b[39m\u001b[39m{\u001b[39;00m\u001b[39mlen\u001b[39m(x\u001b[39m.\u001b[39mshape)\u001b[39m}\u001b[39;00m\u001b[39m\"\u001b[39m\n\u001b[0;32m     72\u001b[0m         )\n\u001b[0;32m     73\u001b[0m \u001b[39mif\u001b[39;00m a \u001b[39mis\u001b[39;00m \u001b[39mnot\u001b[39;00m \u001b[39mNone\u001b[39;00m:\n\u001b[0;32m     74\u001b[0m     \u001b[39mif\u001b[39;00m \u001b[39mnot\u001b[39;00m (\u001b[39misinstance\u001b[39m(a, np\u001b[39m.\u001b[39mndarray) \u001b[39mor\u001b[39;00m sp\u001b[39m.\u001b[39misspmatrix(a)):\n",
      "\u001b[1;31mValueError\u001b[0m: x must have shape (n_nodes, n_node_features), got rank 0"
     ]
    }
   ],
   "source": [
    "import numpy as np\n",
    "from spektral.data import Dataset, Graph\n",
    "from spektral.layers import GCNConv\n",
    "from tensorflow.keras.models import Model\n",
    "from tensorflow.keras.layers import Input, Dropout, Dense\n",
    "\n",
    "# Create a sample dataset\n",
    "class MyDataset(Dataset):\n",
    "    def __init__(self):\n",
    "        super().__init__()\n",
    "\n",
    "    def read(self):\n",
    "        # Define your graph data (adjacency matrix and node features)\n",
    "        adjacency = np.array(nx.adjacency_matrix(G))  # Example adjacency matrix\n",
    "        features = np.array({node: G.nodes[node]['color'] for node in G.nodes()})  # Example node features\n",
    "\n",
    "        # Create a graph\n",
    "        graph = Graph(x=features, a=adjacency)\n",
    "        self.graphs.append(graph)\n",
    "\n",
    "data = MyDataset()\n",
    "data.read()\n",
    "\n",
    "# Build the model\n",
    "X_in = Input(shape=(data[0].x.shape[1],))\n",
    "A_in = Input((None,), sparse=True)\n",
    "dropout_1 = Dropout(0.5)(X_in)\n",
    "graph_conv_1 = GCNConv(16, activation='relu')([dropout_1, A_in])\n",
    "dropout_2 = Dropout(0.5)(graph_conv_1)\n",
    "output = Dense(2, activation='softmax')(dropout_2)\n",
    "\n",
    "model = Model(inputs=[X_in, A_in], outputs=output)\n",
    "model.compile(optimizer='adam', loss='sparse_categorical_crossentropy', metrics=['accuracy'])\n",
    "\n",
    "# Train the model (using a single graph in this example)\n",
    "model.fit([data[0].x, data[0].a], data[0].y, epochs=50, batch_size=1)\n"
   ]
  }
 ],
 "metadata": {
  "kernelspec": {
   "display_name": "Python 3",
   "language": "python",
   "name": "python3"
  },
  "language_info": {
   "codemirror_mode": {
    "name": "ipython",
    "version": 3
   },
   "file_extension": ".py",
   "mimetype": "text/x-python",
   "name": "python",
   "nbconvert_exporter": "python",
   "pygments_lexer": "ipython3",
   "version": "3.11.3"
  },
  "orig_nbformat": 4
 },
 "nbformat": 4,
 "nbformat_minor": 2
}
