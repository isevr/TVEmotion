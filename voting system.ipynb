{
 "cells": [
  {
   "cell_type": "code",
   "execution_count": 2,
   "metadata": {},
   "outputs": [],
   "source": [
    "# Late fusion technique\n",
    "import numpy as np\n",
    "\n",
    "emotions = ['sadness', 'surprise', 'neutral', 'joy', 'anger', 'disgust',\n",
    "       'fear']\n",
    "\n",
    "def final_pred(text_model_prediction, visual_model_prediction):\n",
    "\n",
    "    text_max = np.argmax(text_model_prediction)\n",
    "    vis_max = np.argmax(visual_model_prediction)\n",
    "\n",
    "    #equal predictions\n",
    "    if text_max == vis_max:\n",
    "        final_prediction = emotions[text_max]\n",
    "        print('equal predictions')\n",
    "\n",
    "    #different predictions, lean towards higher confidence\n",
    "    else:\n",
    "        final_prediction_value = np.maximum(a := np.round(text_model_prediction[text_max], 8), b := np.round(visual_model_prediction[vis_max],8))\n",
    "\n",
    "        try: \n",
    "            print(f'text: {a}, visual: {b}')\n",
    "            final_prediction = emotions[np.where(np.round(text_model_prediction,8) == final_prediction_value)[0][0]]\n",
    "            print('text wins')\n",
    "\n",
    "            \n",
    "\n",
    "        except IndexError:\n",
    "            final_prediction = emotions[np.where(np.round(visual_model_prediction,8) == final_prediction_value)[0][0]]\n",
    "            print('vis wins')\n",
    "\n",
    "        \n",
    "        \n",
    "    return final_prediction"
   ]
  },
  {
   "cell_type": "code",
   "execution_count": 3,
   "metadata": {},
   "outputs": [
    {
     "name": "stdout",
     "output_type": "stream",
     "text": [
      "text: 0.19852415, visual: 0.21510258\n",
      "vis wins\n"
     ]
    },
    {
     "data": {
      "text/plain": [
       "'sadness'"
      ]
     },
     "execution_count": 3,
     "metadata": {},
     "output_type": "execute_result"
    }
   ],
   "source": [
    "vector1 = np.random.rand(7)\n",
    "vector2 = np.random.rand(7)\n",
    "\n",
    "text_model_prediction = np.exp(vector1) / np.sum(np.exp(vector1))\n",
    "\n",
    "visual_model_prediction = np.exp(vector2) / np.sum(np.exp(vector2))\n",
    "\n",
    "\n",
    "final_pred(text_model_prediction, visual_model_prediction)"
   ]
  }
 ],
 "metadata": {
  "kernelspec": {
   "display_name": "base",
   "language": "python",
   "name": "python3"
  },
  "language_info": {
   "codemirror_mode": {
    "name": "ipython",
    "version": 3
   },
   "file_extension": ".py",
   "mimetype": "text/x-python",
   "name": "python",
   "nbconvert_exporter": "python",
   "pygments_lexer": "ipython3",
   "version": "3.11.3"
  }
 },
 "nbformat": 4,
 "nbformat_minor": 2
}
